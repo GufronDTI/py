{
 "cells": [
  {
   "cell_type": "markdown",
   "metadata": {},
   "source": [
    "Level 1 - Hello World"
   ]
  },
  {
   "cell_type": "code",
   "execution_count": 2,
   "metadata": {},
   "outputs": [
    {
     "name": "stdout",
     "output_type": "stream",
     "text": [
      "hello world\n"
     ]
    }
   ],
   "source": [
    "print(\"hello world\")"
   ]
  },
  {
   "cell_type": "markdown",
   "metadata": {},
   "source": [
    "Level 2 - Create & Save Simple Notebook / Script (considered done)"
   ]
  },
  {
   "cell_type": "markdown",
   "metadata": {},
   "source": [
    "Level 3 - Learn basic data type and variables in Py"
   ]
  },
  {
   "cell_type": "markdown",
   "metadata": {},
   "source": [
    "Data Types in Python\n",
    "Int: numeric - 20\n",
    "Float: numeric - 20.5\n",
    "Str: text - \"Hello World\" \n",
    "List: sequence - [\"apple\", \"banana\", \"cherry\"]\n",
    "Dict: mapping - {\"name\" : \"John\", \"age\" : 30}\n",
    "\n",
    "Variables in Python\n",
    "Default declaration: x = 5\n",
    "Declare with casting: x = int(5)\n",
    "note: \"John\" = 'John' #string\n",
    "note: a = 4 is NOT the same as A = 4 #variable are case sensitive\n"
   ]
  },
  {
   "cell_type": "markdown",
   "metadata": {},
   "source": [
    "Level 4 - write a program to perform basic arithmetic operations in Python"
   ]
  },
  {
   "cell_type": "code",
   "execution_count": null,
   "metadata": {},
   "outputs": [
    {
     "name": "stdout",
     "output_type": "stream",
     "text": [
      "the value of addition is: 5\n",
      "the value of substraction is: 1\n",
      "the value of multiplication is: 6\n",
      "the value of division is: 3.3333333333333335\n",
      "the value of modulus is: 25\n",
      "the value of exponentiation is: 8\n",
      "the value of floor division is: 3\n"
     ]
    }
   ],
   "source": [
    "addition = 2+3\n",
    "print('the value of addition is:', addition)\n",
    "\n",
    "substraction = 3 - 2\n",
    "print('the value of substraction is:', substraction)\n",
    "\n",
    "multiplication = 2 * 3\n",
    "print('the value of multiplication is:', multiplication)\n",
    "\n",
    "division=10 / 3\n",
    "print('the value of division is:', division)\n",
    "\n",
    "modulus = 100 % 75 #modulus count the remainder. 100 divided by 75 is 1 with remainder 25\n",
    "print('the value of modulus is:', modulus)\n",
    "\n",
    "exponentiation = 2**3 #2 to the power of 3. 2*2*2\n",
    "print('the value of exponentiation is:', exponentiation)\n",
    "\n",
    "floor_division = 10 // 3 #floor division is the same as division but it will round down to the nearest whole number\n",
    "print('the value of floor division is:', floor_division)\n",
    "\n"
   ]
  },
  {
   "cell_type": "markdown",
   "metadata": {},
   "source": [
    "Level 5 - create a list of number in Python and calculate the sum and mean of the list"
   ]
  },
  {
   "cell_type": "code",
   "execution_count": 38,
   "metadata": {},
   "outputs": [
    {
     "name": "stdout",
     "output_type": "stream",
     "text": [
      "the first element of the list is 10\n",
      "the list is containing the following numbers: [10, 20, 30, 40, 50]\n",
      "after adding append, the list is now: [10, 20, 30, 40, 50, 60]\n",
      "the sum of list_of_number is 150 from a list that containing the following numbers [10, 20, 30, 40, 50]\n",
      "the mean of list_of_number is 30.0 from a list that containing the following numbers [10, 20, 30, 40, 50]\n"
     ]
    }
   ],
   "source": [
    "list = [10, 20, 30, 40, 50]\n",
    "print('the first element of the list is',list[0])\n",
    "print('the list is containing the following numbers:',list)\n",
    "\n",
    "appended_list = list.copy()\n",
    "appended_list.append(60)\n",
    "print('after adding append, the list is now:',appended_list)\n",
    "\n",
    "total = sum(list)\n",
    "print('the sum of list_of_number is', total,'from a list that containing the following numbers', list)\n",
    "\n",
    "mean = total / len(list)\n",
    "print('the mean of list_of_number is', mean,'from a list that containing the following numbers', list)"
   ]
  },
  {
   "cell_type": "markdown",
   "metadata": {},
   "source": [
    "Level 6 - read a csv file into Python using Pandas"
   ]
  },
  {
   "cell_type": "code",
   "execution_count": 84,
   "metadata": {},
   "outputs": [
    {
     "name": "stdout",
     "output_type": "stream",
     "text": [
      "                         Industry  id\n",
      "0              Accounting/Finance   1\n",
      "1    Advertising/Public Relations   2\n",
      "2              Aerospace/Aviation   3\n",
      "3   Arts/Entertainment/Publishing   4\n",
      "4                      Automotive   5\n",
      "5                Banking/Mortgage   6\n",
      "6            Business Development   7\n",
      "7            Business Opportunity   8\n",
      "8         Clerical/Administrative   9\n",
      "9         Construction/Facilities  10\n",
      "10                 Consumer Goods  11\n",
      "11               Customer Service  12\n",
      "12             Education/Training  13\n",
      "13               Energy/Utilities  14\n",
      "14                    Engineering  15\n",
      "15            Government/Military  16\n",
      "16                          Green  17\n",
      "17                     Healthcare  18\n",
      "18             Hospitality/Travel  19\n",
      "19                Human Resources  20\n",
      "20       Installation/Maintenance  21\n",
      "21                      Insurance  22\n",
      "22                       Internet  23\n",
      "23                Job Search Aids  24\n",
      "24       Law Enforcement/Security  25\n",
      "25                          Legal  26\n",
      "26           Management/Executive  27\n",
      "27       Manufacturing/Operations  28\n",
      "28                      Marketing  29\n",
      "29           Non-Profit/Volunteer  30\n",
      "30         Pharmaceutical/Biotech  31\n",
      "31          Professional Services  32\n",
      "32             QA/Quality Control  33\n",
      "33                    Real Estate  34\n",
      "34        Restaurant/Food Service  35\n",
      "35                         Retail  36\n",
      "36                          Sales  37\n",
      "37               Science/Research  38\n",
      "38                  Skilled Labor  39\n",
      "39                     Technology  40\n",
      "40             Telecommunications  41\n",
      "41       Transportation/Logistics  42\n",
      "42                          Other  43\n"
     ]
    }
   ],
   "source": [
    "import pandas as pd\n",
    "\n",
    "df = pd.read_csv('industry.csv')\n",
    "\n",
    "print(df.to_string())"
   ]
  },
  {
   "cell_type": "markdown",
   "metadata": {},
   "source": [
    "Level 7 - Perform basic data inspection (column names, data type, and summary statistic) in Python"
   ]
  },
  {
   "cell_type": "code",
   "execution_count": null,
   "metadata": {},
   "outputs": [
    {
     "name": "stdout",
     "output_type": "stream",
     "text": [
      "                         Industry  id\n",
      "0              Accounting/Finance   1\n",
      "1    Advertising/Public Relations   2\n",
      "2              Aerospace/Aviation   3\n",
      "3   Arts/Entertainment/Publishing   4\n",
      "4                      Automotive   5\n",
      "5                Banking/Mortgage   6\n",
      "6            Business Development   7\n",
      "7            Business Opportunity   8\n",
      "8         Clerical/Administrative   9\n",
      "9         Construction/Facilities  10\n",
      "10                 Consumer Goods  11\n",
      "11               Customer Service  12\n",
      "12             Education/Training  13\n",
      "13               Energy/Utilities  14\n",
      "14                    Engineering  15\n",
      "15            Government/Military  16\n",
      "16                          Green  17\n",
      "17                     Healthcare  18\n",
      "18             Hospitality/Travel  19\n",
      "19                Human Resources  20\n",
      "20       Installation/Maintenance  21\n",
      "21                      Insurance  22\n",
      "22                       Internet  23\n",
      "23                Job Search Aids  24\n",
      "24       Law Enforcement/Security  25\n",
      "25                          Legal  26\n",
      "26           Management/Executive  27\n",
      "27       Manufacturing/Operations  28\n",
      "28                      Marketing  29\n",
      "29           Non-Profit/Volunteer  30\n",
      "30         Pharmaceutical/Biotech  31\n",
      "31          Professional Services  32\n",
      "32             QA/Quality Control  33\n",
      "33                    Real Estate  34\n",
      "34        Restaurant/Food Service  35\n",
      "35                         Retail  36\n",
      "36                          Sales  37\n",
      "37               Science/Research  38\n",
      "38                  Skilled Labor  39\n",
      "39                     Technology  40\n",
      "40             Telecommunications  41\n",
      "41       Transportation/Logistics  42\n",
      "42                          Other  43\n",
      "no 1:  Index(['Industry', 'id'], dtype='object')\n",
      "no 2:  id\n",
      "no 3:  Industry    object\n",
      "id           int64\n",
      "dtype: object\n",
      "no 4:  int64\n",
      "              id\n",
      "count  43.000000\n",
      "mean   22.000000\n",
      "std    12.556539\n",
      "min     1.000000\n",
      "25%    11.500000\n",
      "50%    22.000000\n",
      "75%    32.500000\n",
      "max    43.000000\n"
     ]
    }
   ],
   "source": [
    "import numpy as np\n",
    "\n",
    "df = pd.read_csv('industry.csv')\n",
    "\n",
    "print(df)\n",
    "print('no 1: ',df.columns) #inspect column names\n",
    "print('no 2: ',df.columns[1]) #inspect specific column name\n",
    "print('no 3: ',df.dtypes) #inspect data types\n",
    "print('no 4: ',df[df.columns[1]].dtypes) #inspect specific column data type\n",
    "print(df.describe()) #summary statistic\n",
    "\n",
    "\n",
    "\n"
   ]
  },
  {
   "cell_type": "markdown",
   "metadata": {},
   "source": [
    "Level 8: Filter rows based on a condition (e.g., select rows where a column value > 50)."
   ]
  },
  {
   "cell_type": "code",
   "execution_count": null,
   "metadata": {},
   "outputs": [
    {
     "name": "stdout",
     "output_type": "stream",
     "text": [
      "   Industry  id\n",
      "12      NaN  13\n"
     ]
    }
   ],
   "source": [
    "df = pd.read_csv('industry.csv')\n",
    "\n",
    "filter = df.query('id == 13')\n",
    "\n",
    "print(filter)"
   ]
  },
  {
   "cell_type": "markdown",
   "metadata": {},
   "source": [
    "Level 9: Handle missing data by replacing NA/NaN with a specific value in Python and R."
   ]
  },
  {
   "cell_type": "code",
   "execution_count": 17,
   "metadata": {},
   "outputs": [
    {
     "name": "stdout",
     "output_type": "stream",
     "text": [
      "                         Industry   id\n",
      "0              Accounting/Finance    1\n",
      "1    Advertising/Public Relations    2\n",
      "2              Aerospace/Aviation    3\n",
      "3   Arts/Entertainment/Publishing    4\n",
      "4                      Automotive    5\n",
      "5                Banking/Mortgage    6\n",
      "6            Business Development    7\n",
      "7            Business Opportunity    8\n",
      "8         Clerical/Administrative    9\n",
      "9         Construction/Facilities   10\n",
      "10                 Consumer Goods   11\n",
      "11               Customer Service   12\n",
      "12                         hahaha  100\n",
      "13               Energy/Utilities   14\n",
      "14                    Engineering   15\n",
      "15            Government/Military   16\n",
      "16                          Green   17\n",
      "17                     Healthcare   18\n",
      "18             Hospitality/Travel   19\n",
      "19                Human Resources   20\n",
      "20       Installation/Maintenance   21\n",
      "21                      Insurance   22\n",
      "22                       Internet   23\n",
      "23                Job Search Aids   24\n",
      "24       Law Enforcement/Security   25\n",
      "25                          Legal   26\n",
      "26           Management/Executive   27\n",
      "27       Manufacturing/Operations   28\n",
      "28                      Marketing   29\n",
      "29           Non-Profit/Volunteer   30\n",
      "30         Pharmaceutical/Biotech   31\n",
      "31          Professional Services   32\n",
      "32             QA/Quality Control   33\n",
      "33                    Real Estate   34\n",
      "34        Restaurant/Food Service   35\n",
      "35                         Retail   36\n",
      "36                          Sales   37\n",
      "37               Science/Research   38\n",
      "38                  Skilled Labor   39\n",
      "39                     Technology   40\n",
      "40             Telecommunications   41\n",
      "41       Transportation/Logistics   42\n",
      "42                          Other   43\n"
     ]
    }
   ],
   "source": [
    "#read the file\n",
    "df = pd.read_csv('industry.csv')\n",
    "\n",
    "#identify NA in specific column\n",
    "filter = df.query('Industry.isna()')\n",
    "\n",
    "#print(filter)\n",
    "\n",
    "#replace NA value to 'hahaha'\n",
    "df['Industry'] = df['Industry'].replace(np.nan,'hahaha')\n",
    "\n",
    "print(df)"
   ]
  },
  {
   "cell_type": "markdown",
   "metadata": {},
   "source": [
    "Level 10: Save a filtered or modified dataset back to a new CSV file in both Python and R."
   ]
  },
  {
   "cell_type": "code",
   "execution_count": 12,
   "metadata": {},
   "outputs": [],
   "source": [
    "df.to_csv('edited_csv_industry.csv')"
   ]
  },
  {
   "cell_type": "markdown",
   "metadata": {},
   "source": [
    "Level 11: Create a basic line plot using Python (matplotlib) and R (plot)."
   ]
  },
  {
   "cell_type": "code",
   "execution_count": 40,
   "metadata": {},
   "outputs": [
    {
     "data": {
      "image/png": "[encoded data removed]",
      "text/plain": [
       "<Figure size 640x480 with 1 Axes>"
      ]
     },
     "metadata": {},
     "output_type": "display_data"
    }
   ],
   "source": [
    "import matplotlib.pyplot as plt\n",
    "\n",
    "df = pd.read_csv('industry.csv')\n",
    "\n",
    "ypoints = df[\"id2\"]\n",
    "\n",
    "plt.plot(ypoints, linestyle = 'dotted')\n",
    "plt.show()"
   ]
  },
  {
   "cell_type": "markdown",
   "metadata": {},
   "source": [
    "Level 12: Generate a bar plot for categorical data using Python (seaborn) and R (ggplot2)."
   ]
  },
  {
   "cell_type": "code",
   "execution_count": null,
   "metadata": {},
   "outputs": [
    {
     "name": "stdout",
     "output_type": "stream",
     "text": [
      "age           int64\n",
      "sex          object\n",
      "bmi         float64\n",
      "children      int64\n",
      "smoker       object\n",
      "region       object\n",
      "charges     float64\n",
      "dtype: object\n",
      "age          object\n",
      "sex          object\n",
      "bmi         float64\n",
      "children      int64\n",
      "smoker       object\n",
      "region       object\n",
      "charges     float64\n",
      "dtype: object\n"
     ]
    },
    {
     "data": {
      "image/png": "[encoded data removed]",
      "text/plain": [
       "<Figure size 640x480 with 1 Axes>"
      ]
     },
     "metadata": {},
     "output_type": "display_data"
    }
   ],
   "source": [
    "#not succeed sorted\n",
    "import pandas as pd\n",
    "import matplotlib.pyplot as plt\n",
    "\n",
    "df = pd.read_csv('insurance.csv')\n",
    "\n",
    "print(df.dtypes)\n",
    "\n",
    "#cleaning\n",
    "df[\"age\"] = df[\"age\"].fillna(\"Unknown\").astype(str)\n",
    "df[\"bmi\"] = pd.to_numeric(df[\"bmi\"], errors=\"coerce\")\n",
    "\n",
    "print(df.dtypes)\n",
    "\n",
    "# Separate numeric ages from \"Unknown\"\n",
    "df_numeric_age = df[df[\"age\"] != \"Unknown\"]\n",
    "df_numeric_age[\"age\"] = pd.to_numeric(df_numeric_age[\"age\"])\n",
    "\n",
    "#sort by age\n",
    "df_sorted = pd.concat([\n",
    "    df_numeric_age.sort_values(by=\"age\"),\n",
    "    df[df[\"age\"] == \"Unknown\"]  # Add back \"Unknown\" at the end\n",
    "])\n",
    "\n",
    "# Generate bar plot\n",
    "x = df[\"age\"]  # Access columns from the DataFrame, not the module\n",
    "y = df[\"bmi\"]\n",
    "\n",
    "plt.bar(x, y)\n",
    "plt.xticks(rotation=45, ha='right', fontsize=6)  # Rotate x-axis labels for better readability\n",
    "plt.xlabel(\"age\")\n",
    "plt.ylabel(\"bmi\")\n",
    "plt.title(\"age vs bmi\")\n",
    "plt.tight_layout()  # Adjust layout to fit labels\n",
    "plt.show()"
   ]
  },
  {
   "cell_type": "code",
   "execution_count": null,
   "metadata": {},
   "outputs": [
    {
     "name": "stdout",
     "output_type": "stream",
     "text": [
      "Before Cleaning:\n",
      "age           int64\n",
      "sex          object\n",
      "bmi         float64\n",
      "children      int64\n",
      "smoker       object\n",
      "region       object\n",
      "charges     float64\n",
      "dtype: object\n",
      "\n",
      "After Cleaning:\n",
      "age          object\n",
      "sex          object\n",
      "bmi         float64\n",
      "children      int64\n",
      "smoker       object\n",
      "region       object\n",
      "charges     float64\n",
      "dtype: object\n"
     ]
    },
    {
     "data": {
      "image/png": "[encoded data removed]",
      "text/plain": [
       "<Figure size 640x480 with 1 Axes>"
      ]
     },
     "metadata": {},
     "output_type": "display_data"
    }
   ],
   "source": [
    "#succeed sorted\n",
    "import pandas as pd\n",
    "import matplotlib.pyplot as plt\n",
    "\n",
    "# Load the data\n",
    "df = pd.read_csv('insurance.csv')\n",
    "\n",
    "print(\"Before Cleaning:\")\n",
    "print(df.dtypes)\n",
    "\n",
    "# Handle missing and non-numeric values\n",
    "df[\"age\"] = df[\"age\"].fillna(\"Unknown\").astype(str)  # Handle missing age\n",
    "df[\"bmi\"] = pd.to_numeric(df[\"bmi\"], errors=\"coerce\")  # Convert BMI to numeric\n",
    "\n",
    "print(\"\\nAfter Cleaning:\")\n",
    "print(df.dtypes)\n",
    "\n",
    "# Separate numeric ages from \"Unknown\"\n",
    "df_numeric_age = df[df[\"age\"] != \"Unknown\"]\n",
    "df_numeric_age[\"age\"] = pd.to_numeric(df_numeric_age[\"age\"])\n",
    "\n",
    "# Combine sorted numeric and non-numeric values\n",
    "df_sorted = pd.concat([\n",
    "    df_numeric_age.sort_values(by=\"age\"),\n",
    "    df[df[\"age\"] == \"Unknown\"]  # Add back \"Unknown\" at the end\n",
    "])\n",
    "\n",
    "# Generate bar plot\n",
    "x = df_sorted[\"age\"].astype(str)  # Ensure x-axis labels are strings\n",
    "y = df_sorted[\"bmi\"]\n",
    "\n",
    "plt.bar(x, y)\n",
    "plt.xticks(rotation=45, ha='right', fontsize=6)  # Rotate x-axis labels for better readability\n",
    "plt.xlabel(\"Age\")\n",
    "plt.ylabel(\"BMI\")\n",
    "plt.title(\"Age vs BMI\")\n",
    "plt.tight_layout()  # Adjust layout to fit labels\n",
    "plt.show()\n"
   ]
  },
  {
   "cell_type": "markdown",
   "metadata": {},
   "source": [
    "Level 13: Create a histogram to visualize the distribution of numerical data."
   ]
  },
  {
   "cell_type": "code",
   "execution_count": 7,
   "metadata": {},
   "outputs": [
    {
     "data": {
      "image/png": "[encoded data removed]",
      "text/plain": [
       "<Figure size 640x480 with 1 Axes>"
      ]
     },
     "metadata": {},
     "output_type": "display_data"
    },
    {
     "name": "stdout",
     "output_type": "stream",
     "text": [
      "Detailed Histogram Information:\n",
      "Bin 1: Range (1.00, 10.90), Frequency: 10\n",
      "Bin 2: Range (10.90, 20.80), Frequency: 9\n",
      "Bin 3: Range (20.80, 30.70), Frequency: 10\n",
      "Bin 4: Range (30.70, 40.60), Frequency: 10\n",
      "Bin 5: Range (40.60, 50.50), Frequency: 3\n",
      "Bin 6: Range (50.50, 60.40), Frequency: 0\n",
      "Bin 7: Range (60.40, 70.30), Frequency: 0\n",
      "Bin 8: Range (70.30, 80.20), Frequency: 0\n",
      "Bin 9: Range (80.20, 90.10), Frequency: 0\n",
      "Bin 10: Range (90.10, 100.00), Frequency: 1\n"
     ]
    }
   ],
   "source": [
    "import pandas as pd\n",
    "import matplotlib.pyplot as plt\n",
    "import numpy as np\n",
    "\n",
    "# Load the data\n",
    "df = pd.read_csv('industry.csv')\n",
    "\n",
    "# Specify custom bins or dynamically calculate them\n",
    "# Option 1: Custom bin edges\n",
    "# bin_edges = [0, 10, 20, 30, 40, 50]  # Example custom bins\n",
    "# Option 2: Dynamic bins based on the data\n",
    "bin_count = 10  # Number of bins\n",
    "bin_edges = np.linspace(df[\"id\"].min(), df[\"id\"].max(), bin_count + 1)  # Generate bin edges dynamically\n",
    "\n",
    "# Create histogram\n",
    "n, bins, patches = plt.hist(df[\"id\"], bins=bin_edges, color='skyblue', edgecolor='black')\n",
    "\n",
    "# Customize and display the plot\n",
    "plt.xlabel(\"Values\")\n",
    "plt.ylabel(\"Frequency\")\n",
    "plt.title(\"Basic Histogram\")\n",
    "plt.xticks(rotation=45, ha='right', fontsize=8)  # Adjust label size and rotation for readability\n",
    "plt.tight_layout()\n",
    "plt.show()\n",
    "\n",
    "# Print detailed information for each bar\n",
    "print(\"Detailed Histogram Information:\")\n",
    "for i in range(len(n)):\n",
    "    print(f\"Bin {i + 1}: Range ({bins[i]:.2f}, {bins[i + 1]:.2f}), Frequency: {n[i]:.0f}\")\n"
   ]
  },
  {
   "cell_type": "code",
   "execution_count": 28,
   "metadata": {},
   "outputs": [
    {
     "data": {
      "application/vnd.plotly.v1+json": {
       "config": {
        "plotlyServerURL": "https://plot.ly"
       },
       "data": [
        {
         "alignmentgroup": "True",
         "bingroup": "x",
         "hovertemplate": "<b>Range:</b> %{x}<br><b>Frequency:</b> %{y}",
         "legendgroup": "",
         "marker": {
          "color": "#636efa",
          "pattern": {
           "shape": ""
          }
         },
         "name": "",
         "nbinsx": 2,
         "offsetgroup": "",
         "orientation": "v",
         "showlegend": false,
         "type": "histogram",
         "x": [
          19,
          18,
          28,
          33,
          32,
          31,
          46,
          37,
          37,
          60,
          25,
          62,
          23,
          56,
          27,
          19,
          52,
          23,
          56,
          30,
          60,
          30,
          18,
          34,
          37,
          59,
          63,
          55,
          23,
          31,
          22,
          18,
          19,
          63,
          28,
          19,
          62,
          26,
          35,
          60,
          24,
          31,
          41,
          37,
          38,
          55,
          18,
          28,
          60,
          36,
          18,
          21,
          48,
          36,
          40,
          58,
          58,
          18,
          53,
          34,
          43,
          25,
          64,
          28,
          20,
          19,
          61,
          40,
          40,
          28,
          27,
          31,
          53,
          58,
          44,
          57,
          29,
          21,
          22,
          41,
          31,
          45,
          22,
          48,
          37,
          45,
          57,
          56,
          46,
          55,
          21,
          53,
          59,
          35,
          64,
          28,
          54,
          55,
          56,
          38,
          41,
          30,
          18,
          61,
          34,
          20,
          19,
          26,
          29,
          63,
          54,
          55,
          37,
          21,
          52,
          60,
          58,
          29,
          49,
          37,
          44,
          18,
          20,
          44,
          47,
          26,
          19,
          52,
          32,
          38,
          59,
          61,
          53,
          19,
          20,
          22,
          19,
          22,
          54,
          22,
          34,
          26,
          34,
          29,
          30,
          29,
          46,
          51,
          53,
          19,
          35,
          48,
          32,
          42,
          40,
          44,
          48,
          18,
          30,
          50,
          42,
          18,
          54,
          32,
          37,
          47,
          20,
          32,
          19,
          27,
          63,
          49,
          18,
          35,
          24,
          63,
          38,
          54,
          46,
          41,
          58,
          18,
          22,
          44,
          44,
          36,
          26,
          30,
          41,
          29,
          61,
          36,
          25,
          56,
          18,
          19,
          39,
          45,
          51,
          64,
          19,
          48,
          60,
          27,
          46,
          28,
          59,
          35,
          63,
          40,
          20,
          40,
          24,
          34,
          45,
          41,
          53,
          27,
          26,
          24,
          34,
          53,
          32,
          19,
          42,
          55,
          28,
          58,
          41,
          47,
          42,
          59,
          19,
          59,
          39,
          40,
          18,
          31,
          19,
          44,
          23,
          33,
          55,
          40,
          63,
          54,
          60,
          24,
          19,
          29,
          18,
          63,
          54,
          27,
          50,
          55,
          56,
          38,
          51,
          19,
          58,
          20,
          52,
          19,
          53,
          46,
          40,
          59,
          45,
          49,
          18,
          50,
          41,
          50,
          25,
          47,
          19,
          22,
          59,
          51,
          40,
          54,
          30,
          55,
          52,
          46,
          46,
          63,
          59,
          52,
          28,
          29,
          25,
          22,
          25,
          18,
          19,
          47,
          31,
          48,
          36,
          53,
          56,
          28,
          57,
          29,
          28,
          30,
          58,
          41,
          50,
          19,
          43,
          49,
          27,
          52,
          50,
          54,
          44,
          32,
          34,
          26,
          34,
          57,
          29,
          40,
          27,
          45,
          64,
          52,
          61,
          52,
          61,
          56,
          43,
          64,
          60,
          62,
          50,
          46,
          24,
          62,
          60,
          63,
          49,
          34,
          33,
          46,
          36,
          19,
          57,
          50,
          30,
          33,
          18,
          46,
          46,
          47,
          23,
          18,
          48,
          35,
          19,
          21,
          21,
          49,
          56,
          42,
          44,
          18,
          61,
          57,
          42,
          26,
          20,
          23,
          39,
          24,
          64,
          62,
          27,
          55,
          55,
          35,
          44,
          19,
          58,
          50,
          26,
          24,
          48,
          19,
          48,
          49,
          46,
          46,
          43,
          21,
          64,
          18,
          51,
          47,
          64,
          49,
          31,
          52,
          33,
          47,
          38,
          32,
          19,
          44,
          26,
          25,
          19,
          43,
          52,
          36,
          64,
          63,
          64,
          61,
          40,
          25,
          48,
          45,
          38,
          18,
          21,
          27,
          19,
          29,
          42,
          60,
          31,
          60,
          22,
          35,
          52,
          26,
          31,
          33,
          18,
          59,
          56,
          45,
          60,
          56,
          40,
          35,
          39,
          30,
          24,
          20,
          32,
          59,
          55,
          57,
          56,
          40,
          49,
          42,
          62,
          56,
          19,
          30,
          60,
          56,
          28,
          18,
          27,
          18,
          19,
          47,
          54,
          61,
          24,
          25,
          21,
          23,
          63,
          49,
          18,
          51,
          48,
          31,
          54,
          19,
          44,
          53,
          19,
          61,
          18,
          61,
          21,
          20,
          31,
          45,
          44,
          62,
          29,
          43,
          51,
          19,
          38,
          37,
          22,
          21,
          24,
          57,
          56,
          27,
          51,
          19,
          39,
          58,
          20,
          45,
          35,
          31,
          50,
          32,
          51,
          38,
          42,
          18,
          19,
          51,
          46,
          18,
          57,
          62,
          59,
          37,
          64,
          38,
          33,
          46,
          46,
          53,
          34,
          20,
          63,
          54,
          54,
          49,
          28,
          54,
          25,
          43,
          63,
          32,
          62,
          52,
          25,
          28,
          46,
          34,
          35,
          19,
          46,
          54,
          27,
          50,
          18,
          19,
          38,
          41,
          49,
          48,
          31,
          18,
          30,
          62,
          57,
          58,
          22,
          31,
          52,
          25,
          59,
          19,
          39,
          32,
          19,
          33,
          21,
          34,
          61,
          38,
          58,
          47,
          20,
          21,
          41,
          46,
          42,
          34,
          43,
          52,
          18,
          51,
          56,
          64,
          19,
          51,
          27,
          59,
          28,
          30,
          47,
          38,
          18,
          34,
          20,
          47,
          56,
          49,
          19,
          55,
          30,
          37,
          49,
          18,
          59,
          29,
          36,
          33,
          58,
          44,
          53,
          24,
          29,
          40,
          51,
          64,
          19,
          35,
          39,
          56,
          33,
          42,
          61,
          23,
          43,
          48,
          39,
          40,
          18,
          58,
          49,
          53,
          48,
          45,
          59,
          52,
          26,
          27,
          48,
          57,
          37,
          57,
          32,
          18,
          64,
          43,
          49,
          40,
          62,
          40,
          30,
          29,
          36,
          41,
          44,
          45,
          55,
          60,
          56,
          49,
          21,
          19,
          39,
          53,
          33,
          53,
          42,
          40,
          47,
          27,
          21,
          47,
          20,
          24,
          27,
          26,
          53,
          41,
          56,
          23,
          21,
          50,
          53,
          34,
          47,
          33,
          51,
          49,
          31,
          36,
          18,
          50,
          43,
          20,
          24,
          60,
          49,
          60,
          51,
          58,
          51,
          53,
          62,
          19,
          50,
          30,
          41,
          29,
          18,
          41,
          35,
          53,
          24,
          48,
          59,
          49,
          37,
          26,
          23,
          29,
          45,
          27,
          53,
          31,
          50,
          50,
          34,
          19,
          47,
          28,
          37,
          21,
          64,
          58,
          24,
          31,
          39,
          47,
          30,
          18,
          22,
          23,
          33,
          27,
          45,
          57,
          47,
          42,
          64,
          38,
          61,
          53,
          44,
          19,
          41,
          51,
          40,
          45,
          35,
          53,
          30,
          18,
          51,
          50,
          31,
          35,
          60,
          21,
          29,
          62,
          39,
          19,
          22,
          53,
          39,
          27,
          30,
          30,
          58,
          33,
          42,
          64,
          21,
          18,
          23,
          45,
          40,
          19,
          18,
          25,
          46,
          33,
          54,
          28,
          36,
          20,
          24,
          23,
          47,
          33,
          45,
          26,
          18,
          44,
          60,
          64,
          56,
          36,
          41,
          39,
          63,
          36,
          28,
          58,
          36,
          42,
          36,
          56,
          35,
          59,
          21,
          59,
          23,
          57,
          53,
          60,
          51,
          23,
          27,
          55,
          37,
          61,
          46,
          53,
          49,
          20,
          48,
          25,
          25,
          57,
          37,
          38,
          55,
          36,
          51,
          40,
          18,
          57,
          61,
          25,
          50,
          26,
          42,
          43,
          44,
          23,
          49,
          33,
          41,
          37,
          22,
          23,
          21,
          51,
          25,
          32,
          57,
          36,
          22,
          57,
          64,
          36,
          54,
          47,
          62,
          61,
          43,
          19,
          18,
          19,
          49,
          60,
          26,
          49,
          60,
          26,
          27,
          44,
          63,
          32,
          22,
          18,
          59,
          44,
          33,
          24,
          43,
          45,
          61,
          35,
          62,
          62,
          38,
          34,
          43,
          50,
          19,
          57,
          62,
          41,
          26,
          39,
          46,
          45,
          32,
          59,
          44,
          39,
          18,
          53,
          18,
          50,
          18,
          19,
          62,
          56,
          42,
          37,
          42,
          25,
          57,
          51,
          30,
          44,
          34,
          31,
          54,
          24,
          43,
          48,
          19,
          29,
          63,
          46,
          52,
          35,
          51,
          44,
          21,
          39,
          50,
          34,
          22,
          19,
          26,
          29,
          48,
          26,
          45,
          36,
          54,
          34,
          31,
          27,
          20,
          44,
          43,
          45,
          34,
          24,
          26,
          38,
          50,
          38,
          27,
          39,
          39,
          63,
          33,
          36,
          30,
          24,
          24,
          48,
          47,
          29,
          28,
          47,
          25,
          51,
          48,
          43,
          61,
          48,
          38,
          59,
          19,
          26,
          54,
          21,
          51,
          22,
          47,
          18,
          47,
          21,
          19,
          23,
          54,
          37,
          46,
          55,
          30,
          18,
          61,
          54,
          22,
          45,
          22,
          19,
          35,
          18,
          20,
          28,
          55,
          43,
          43,
          22,
          25,
          49,
          44,
          64,
          49,
          47,
          27,
          55,
          48,
          45,
          24,
          32,
          24,
          57,
          59,
          36,
          29,
          42,
          48,
          39,
          63,
          54,
          37,
          63,
          21,
          54,
          60,
          32,
          47,
          21,
          28,
          63,
          18,
          32,
          38,
          32,
          62,
          39,
          55,
          57,
          52,
          56,
          47,
          55,
          23,
          22,
          50,
          18,
          51,
          22,
          52,
          25,
          33,
          53,
          29,
          58,
          37,
          54,
          49,
          50,
          26,
          45,
          54,
          38,
          48,
          28,
          23,
          55,
          41,
          25,
          33,
          30,
          23,
          46,
          53,
          27,
          23,
          63,
          55,
          35,
          34,
          19,
          39,
          27,
          57,
          52,
          28,
          50,
          44,
          26,
          33,
          19,
          50,
          41,
          52,
          39,
          50,
          52,
          60,
          20,
          55,
          42,
          18,
          58,
          43,
          35,
          48,
          36,
          19,
          23,
          20,
          32,
          43,
          34,
          30,
          18,
          41,
          35,
          57,
          29,
          32,
          37,
          18,
          43,
          56,
          38,
          29,
          22,
          52,
          40,
          23,
          31,
          42,
          24,
          25,
          48,
          23,
          45,
          20,
          62,
          43,
          23,
          31,
          41,
          58,
          48,
          31,
          19,
          19,
          41,
          40,
          31,
          37,
          46,
          22,
          51,
          18,
          35,
          59,
          36,
          37,
          59,
          36,
          39,
          18,
          52,
          27,
          18,
          40,
          29,
          46,
          38,
          30,
          40,
          50,
          20,
          41,
          33,
          38,
          42,
          56,
          58,
          52,
          20,
          54,
          58,
          45,
          26,
          63,
          58,
          37,
          25,
          52,
          64,
          22,
          28,
          18,
          28,
          45,
          33,
          18,
          32,
          24,
          19,
          20,
          40,
          34,
          42,
          51,
          54,
          55,
          52,
          32,
          28,
          41,
          43,
          49,
          64,
          55,
          24,
          20,
          45,
          26,
          25,
          43,
          35,
          26,
          57,
          22,
          32,
          39,
          25,
          48,
          47,
          18,
          18,
          61,
          47,
          28,
          36,
          20,
          44,
          38,
          19,
          21,
          46,
          58,
          20,
          18,
          28,
          33,
          19,
          45,
          62,
          25,
          43,
          42,
          24,
          29,
          32,
          25,
          41,
          42,
          33,
          34,
          19,
          30,
          18,
          19,
          18,
          35,
          39,
          31,
          62,
          62,
          42,
          31,
          61,
          42,
          51,
          23,
          52,
          57,
          23,
          52,
          50,
          18,
          18,
          21,
          61
         ],
         "xaxis": "x",
         "yaxis": "y"
        }
       ],
       "layout": {
        "bargap": 0.1,
        "barmode": "relative",
        "legend": {
         "tracegroupgap": 0
        },
        "template": {
         "data": {
          "bar": [
           {
            "error_x": {
             "color": "#2a3f5f"
            },
            "error_y": {
             "color": "#2a3f5f"
            },
            "marker": {
             "line": {
              "color": "white",
              "width": 0.5
             },
             "pattern": {
              "fillmode": "overlay",
              "size": 10,
              "solidity": 0.2
             }
            },
            "type": "bar"
           }
          ],
          "barpolar": [
           {
            "marker": {
             "line": {
              "color": "white",
              "width": 0.5
             },
             "pattern": {
              "fillmode": "overlay",
              "size": 10,
              "solidity": 0.2
             }
            },
            "type": "barpolar"
           }
          ],
          "carpet": [
           {
            "aaxis": {
             "endlinecolor": "#2a3f5f",
             "gridcolor": "#C8D4E3",
             "linecolor": "#C8D4E3",
             "minorgridcolor": "#C8D4E3",
             "startlinecolor": "#2a3f5f"
            },
            "baxis": {
             "endlinecolor": "#2a3f5f",
             "gridcolor": "#C8D4E3",
             "linecolor": "#C8D4E3",
             "minorgridcolor": "#C8D4E3",
             "startlinecolor": "#2a3f5f"
            },
            "type": "carpet"
           }
          ],
          "choropleth": [
           {
            "colorbar": {
             "outlinewidth": 0,
             "ticks": ""
            },
            "type": "choropleth"
           }
          ],
          "contour": [
           {
            "colorbar": {
             "outlinewidth": 0,
             "ticks": ""
            },
            "colorscale": [
             [
              0,
              "#0d0887"
             ],
             [
              0.1111111111111111,
              "#46039f"
             ],
             [
              0.2222222222222222,
              "#7201a8"
             ],
             [
              0.3333333333333333,
              "#9c179e"
             ],
             [
              0.4444444444444444,
              "#bd3786"
             ],
             [
              0.5555555555555556,
              "#d8576b"
             ],
             [
              0.6666666666666666,
              "#ed7953"
             ],
             [
              0.7777777777777778,
              "#fb9f3a"
             ],
             [
              0.8888888888888888,
              "#fdca26"
             ],
             [
              1,
              "#f0f921"
             ]
            ],
            "type": "contour"
           }
          ],
          "contourcarpet": [
           {
            "colorbar": {
             "outlinewidth": 0,
             "ticks": ""
            },
            "type": "contourcarpet"
           }
          ],
          "heatmap": [
           {
            "colorbar": {
             "outlinewidth": 0,
             "ticks": ""
            },
            "colorscale": [
             [
              0,
              "#0d0887"
             ],
             [
              0.1111111111111111,
              "#46039f"
             ],
             [
              0.2222222222222222,
              "#7201a8"
             ],
             [
              0.3333333333333333,
              "#9c179e"
             ],
             [
              0.4444444444444444,
              "#bd3786"
             ],
             [
              0.5555555555555556,
              "#d8576b"
             ],
             [
              0.6666666666666666,
              "#ed7953"
             ],
             [
              0.7777777777777778,
              "#fb9f3a"
             ],
             [
              0.8888888888888888,
              "#fdca26"
             ],
             [
              1,
              "#f0f921"
             ]
            ],
            "type": "heatmap"
           }
          ],
          "heatmapgl": [
           {
            "colorbar": {
             "outlinewidth": 0,
             "ticks": ""
            },
            "colorscale": [
             [
              0,
              "#0d0887"
             ],
             [
              0.1111111111111111,
              "#46039f"
             ],
             [
              0.2222222222222222,
              "#7201a8"
             ],
             [
              0.3333333333333333,
              "#9c179e"
             ],
             [
              0.4444444444444444,
              "#bd3786"
             ],
             [
              0.5555555555555556,
              "#d8576b"
             ],
             [
              0.6666666666666666,
              "#ed7953"
             ],
             [
              0.7777777777777778,
              "#fb9f3a"
             ],
             [
              0.8888888888888888,
              "#fdca26"
             ],
             [
              1,
              "#f0f921"
             ]
            ],
            "type": "heatmapgl"
           }
          ],
          "histogram": [
           {
            "marker": {
             "pattern": {
              "fillmode": "overlay",
              "size": 10,
              "solidity": 0.2
             }
            },
            "type": "histogram"
           }
          ],
          "histogram2d": [
           {
            "colorbar": {
             "outlinewidth": 0,
             "ticks": ""
            },
            "colorscale": [
             [
              0,
              "#0d0887"
             ],
             [
              0.1111111111111111,
              "#46039f"
             ],
             [
              0.2222222222222222,
              "#7201a8"
             ],
             [
              0.3333333333333333,
              "#9c179e"
             ],
             [
              0.4444444444444444,
              "#bd3786"
             ],
             [
              0.5555555555555556,
              "#d8576b"
             ],
             [
              0.6666666666666666,
              "#ed7953"
             ],
             [
              0.7777777777777778,
              "#fb9f3a"
             ],
             [
              0.8888888888888888,
              "#fdca26"
             ],
             [
              1,
              "#f0f921"
             ]
            ],
            "type": "histogram2d"
           }
          ],
          "histogram2dcontour": [
           {
            "colorbar": {
             "outlinewidth": 0,
             "ticks": ""
            },
            "colorscale": [
             [
              0,
              "#0d0887"
             ],
             [
              0.1111111111111111,
              "#46039f"
             ],
             [
              0.2222222222222222,
              "#7201a8"
             ],
             [
              0.3333333333333333,
              "#9c179e"
             ],
             [
              0.4444444444444444,
              "#bd3786"
             ],
             [
              0.5555555555555556,
              "#d8576b"
             ],
             [
              0.6666666666666666,
              "#ed7953"
             ],
             [
              0.7777777777777778,
              "#fb9f3a"
             ],
             [
              0.8888888888888888,
              "#fdca26"
             ],
             [
              1,
              "#f0f921"
             ]
            ],
            "type": "histogram2dcontour"
           }
          ],
          "mesh3d": [
           {
            "colorbar": {
             "outlinewidth": 0,
             "ticks": ""
            },
            "type": "mesh3d"
           }
          ],
          "parcoords": [
           {
            "line": {
             "colorbar": {
              "outlinewidth": 0,
              "ticks": ""
             }
            },
            "type": "parcoords"
           }
          ],
          "pie": [
           {
            "automargin": true,
            "type": "pie"
           }
          ],
          "scatter": [
           {
            "fillpattern": {
             "fillmode": "overlay",
             "size": 10,
             "solidity": 0.2
            },
            "type": "scatter"
           }
          ],
          "scatter3d": [
           {
            "line": {
             "colorbar": {
              "outlinewidth": 0,
              "ticks": ""
             }
            },
            "marker": {
             "colorbar": {
              "outlinewidth": 0,
              "ticks": ""
             }
            },
            "type": "scatter3d"
           }
          ],
          "scattercarpet": [
           {
            "marker": {
             "colorbar": {
              "outlinewidth": 0,
              "ticks": ""
             }
            },
            "type": "scattercarpet"
           }
          ],
          "scattergeo": [
           {
            "marker": {
             "colorbar": {
              "outlinewidth": 0,
              "ticks": ""
             }
            },
            "type": "scattergeo"
           }
          ],
          "scattergl": [
           {
            "marker": {
             "colorbar": {
              "outlinewidth": 0,
              "ticks": ""
             }
            },
            "type": "scattergl"
           }
          ],
          "scattermapbox": [
           {
            "marker": {
             "colorbar": {
              "outlinewidth": 0,
              "ticks": ""
             }
            },
            "type": "scattermapbox"
           }
          ],
          "scatterpolar": [
           {
            "marker": {
             "colorbar": {
              "outlinewidth": 0,
              "ticks": ""
             }
            },
            "type": "scatterpolar"
           }
          ],
          "scatterpolargl": [
           {
            "marker": {
             "colorbar": {
              "outlinewidth": 0,
              "ticks": ""
             }
            },
            "type": "scatterpolargl"
           }
          ],
          "scatterternary": [
           {
            "marker": {
             "colorbar": {
              "outlinewidth": 0,
              "ticks": ""
             }
            },
            "type": "scatterternary"
           }
          ],
          "surface": [
           {
            "colorbar": {
             "outlinewidth": 0,
             "ticks": ""
            },
            "colorscale": [
             [
              0,
              "#0d0887"
             ],
             [
              0.1111111111111111,
              "#46039f"
             ],
             [
              0.2222222222222222,
              "#7201a8"
             ],
             [
              0.3333333333333333,
              "#9c179e"
             ],
             [
              0.4444444444444444,
              "#bd3786"
             ],
             [
              0.5555555555555556,
              "#d8576b"
             ],
             [
              0.6666666666666666,
              "#ed7953"
             ],
             [
              0.7777777777777778,
              "#fb9f3a"
             ],
             [
              0.8888888888888888,
              "#fdca26"
             ],
             [
              1,
              "#f0f921"
             ]
            ],
            "type": "surface"
           }
          ],
          "table": [
           {
            "cells": {
             "fill": {
              "color": "#EBF0F8"
             },
             "line": {
              "color": "white"
             }
            },
            "header": {
             "fill": {
              "color": "#C8D4E3"
             },
             "line": {
              "color": "white"
             }
            },
            "type": "table"
           }
          ]
         },
         "layout": {
          "annotationdefaults": {
           "arrowcolor": "#2a3f5f",
           "arrowhead": 0,
           "arrowwidth": 1
          },
          "autotypenumbers": "strict",
          "coloraxis": {
           "colorbar": {
            "outlinewidth": 0,
            "ticks": ""
           }
          },
          "colorscale": {
           "diverging": [
            [
             0,
             "#8e0152"
            ],
            [
             0.1,
             "#c51b7d"
            ],
            [
             0.2,
             "#de77ae"
            ],
            [
             0.3,
             "#f1b6da"
            ],
            [
             0.4,
             "#fde0ef"
            ],
            [
             0.5,
             "#f7f7f7"
            ],
            [
             0.6,
             "#e6f5d0"
            ],
            [
             0.7,
             "#b8e186"
            ],
            [
             0.8,
             "#7fbc41"
            ],
            [
             0.9,
             "#4d9221"
            ],
            [
             1,
             "#276419"
            ]
           ],
           "sequential": [
            [
             0,
             "#0d0887"
            ],
            [
             0.1111111111111111,
             "#46039f"
            ],
            [
             0.2222222222222222,
             "#7201a8"
            ],
            [
             0.3333333333333333,
             "#9c179e"
            ],
            [
             0.4444444444444444,
             "#bd3786"
            ],
            [
             0.5555555555555556,
             "#d8576b"
            ],
            [
             0.6666666666666666,
             "#ed7953"
            ],
            [
             0.7777777777777778,
             "#fb9f3a"
            ],
            [
             0.8888888888888888,
             "#fdca26"
            ],
            [
             1,
             "#f0f921"
            ]
           ],
           "sequentialminus": [
            [
             0,
             "#0d0887"
            ],
            [
             0.1111111111111111,
             "#46039f"
            ],
            [
             0.2222222222222222,
             "#7201a8"
            ],
            [
             0.3333333333333333,
             "#9c179e"
            ],
            [
             0.4444444444444444,
             "#bd3786"
            ],
            [
             0.5555555555555556,
             "#d8576b"
            ],
            [
             0.6666666666666666,
             "#ed7953"
            ],
            [
             0.7777777777777778,
             "#fb9f3a"
            ],
            [
             0.8888888888888888,
             "#fdca26"
            ],
            [
             1,
             "#f0f921"
            ]
           ]
          },
          "colorway": [
           "#636efa",
           "#EF553B",
           "#00cc96",
           "#ab63fa",
           "#FFA15A",
           "#19d3f3",
           "#FF6692",
           "#B6E880",
           "#FF97FF",
           "#FECB52"
          ],
          "font": {
           "color": "#2a3f5f"
          },
          "geo": {
           "bgcolor": "white",
           "lakecolor": "white",
           "landcolor": "white",
           "showlakes": true,
           "showland": true,
           "subunitcolor": "#C8D4E3"
          },
          "hoverlabel": {
           "align": "left"
          },
          "hovermode": "closest",
          "mapbox": {
           "style": "light"
          },
          "paper_bgcolor": "white",
          "plot_bgcolor": "white",
          "polar": {
           "angularaxis": {
            "gridcolor": "#EBF0F8",
            "linecolor": "#EBF0F8",
            "ticks": ""
           },
           "bgcolor": "white",
           "radialaxis": {
            "gridcolor": "#EBF0F8",
            "linecolor": "#EBF0F8",
            "ticks": ""
           }
          },
          "scene": {
           "xaxis": {
            "backgroundcolor": "white",
            "gridcolor": "#DFE8F3",
            "gridwidth": 2,
            "linecolor": "#EBF0F8",
            "showbackground": true,
            "ticks": "",
            "zerolinecolor": "#EBF0F8"
           },
           "yaxis": {
            "backgroundcolor": "white",
            "gridcolor": "#DFE8F3",
            "gridwidth": 2,
            "linecolor": "#EBF0F8",
            "showbackground": true,
            "ticks": "",
            "zerolinecolor": "#EBF0F8"
           },
           "zaxis": {
            "backgroundcolor": "white",
            "gridcolor": "#DFE8F3",
            "gridwidth": 2,
            "linecolor": "#EBF0F8",
            "showbackground": true,
            "ticks": "",
            "zerolinecolor": "#EBF0F8"
           }
          },
          "shapedefaults": {
           "line": {
            "color": "#2a3f5f"
           }
          },
          "ternary": {
           "aaxis": {
            "gridcolor": "#DFE8F3",
            "linecolor": "#A2B1C6",
            "ticks": ""
           },
           "baxis": {
            "gridcolor": "#DFE8F3",
            "linecolor": "#A2B1C6",
            "ticks": ""
           },
           "bgcolor": "white",
           "caxis": {
            "gridcolor": "#DFE8F3",
            "linecolor": "#A2B1C6",
            "ticks": ""
           }
          },
          "title": {
           "x": 0.05
          },
          "xaxis": {
           "automargin": true,
           "gridcolor": "#EBF0F8",
           "linecolor": "#EBF0F8",
           "ticks": "",
           "title": {
            "standoff": 15
           },
           "zerolinecolor": "#EBF0F8",
           "zerolinewidth": 2
          },
          "yaxis": {
           "automargin": true,
           "gridcolor": "#EBF0F8",
           "linecolor": "#EBF0F8",
           "ticks": "",
           "title": {
            "standoff": 15
           },
           "zerolinecolor": "#EBF0F8",
           "zerolinewidth": 2
          }
         }
        },
        "title": {
         "text": "Interactive Histogram"
        },
        "xaxis": {
         "anchor": "y",
         "domain": [
          0,
          1
         ],
         "title": {
          "text": "Values"
         }
        },
        "yaxis": {
         "anchor": "x",
         "domain": [
          0,
          1
         ],
         "title": {
          "text": "Frequency"
         }
        }
       }
      }
     },
     "metadata": {},
     "output_type": "display_data"
    }
   ],
   "source": [
    "import pandas as pd\n",
    "import plotly.express as px\n",
    "import numpy as np\n",
    "\n",
    "# Load the data\n",
    "df = pd.read_csv('insurance.csv')\n",
    "\n",
    "# Specify number of bins\n",
    "bin_count = 2\n",
    "\n",
    "# Create histogram with Plotly\n",
    "fig = px.histogram(\n",
    "    df, \n",
    "    x=\"age\", \n",
    "    nbins=bin_count,  # Number of bins\n",
    "    title=\"Interactive Histogram\",\n",
    "    labels={\"age\": \"Values\", \"count\": \"Frequency\"},\n",
    "    template=\"plotly_white\"\n",
    ")\n",
    "\n",
    "# Add hover info with bin details\n",
    "fig.update_traces(hovertemplate=\"<b>Range:</b> %{x}<br><b>Frequency:</b> %{y}\")\n",
    "\n",
    "# Customize layout\n",
    "fig.update_layout(\n",
    "    xaxis_title=\"Values\",\n",
    "    yaxis_title=\"Frequency\",\n",
    "    bargap=0.1,  # Adjust space between bars\n",
    ")\n",
    "\n",
    "# Show the chart\n",
    "fig.show()\n"
   ]
  },
  {
   "cell_type": "markdown",
   "metadata": {},
   "source": [
    "Level 14: Generate a scatter plot with labels and a trendline in Python and R"
   ]
  },
  {
   "cell_type": "code",
   "execution_count": 50,
   "metadata": {},
   "outputs": [
    {
     "name": "stdout",
     "output_type": "stream",
     "text": [
      "      age     sex     bmi  children smoker     region      charges\n",
      "0      19  female  27.900         0    yes  southwest  16884.92400\n",
      "1      18    male  33.770         1     no  southeast   1725.55230\n",
      "2      28    male  33.000         3     no  southeast   4449.46200\n",
      "3      33    male  22.705         0     no  northwest  21984.47061\n",
      "4      32    male  28.880         0     no  northwest   3866.85520\n",
      "...   ...     ...     ...       ...    ...        ...          ...\n",
      "1333   50    male  30.970         3     no  northwest  10600.54830\n",
      "1334   18  female  31.920         0     no  northeast   2205.98080\n",
      "1335   18  female  36.850         0     no  southeast   1629.83350\n",
      "1336   21  female  25.800         0     no  southwest   2007.94500\n",
      "1337   61  female  29.070         0    yes  northwest  29141.36030\n",
      "\n",
      "[1338 rows x 7 columns]\n"
     ]
    },
    {
     "data": {
      "image/png": "[encoded data removed]",
      "text/plain": [
       "<Figure size 640x480 with 2 Axes>"
      ]
     },
     "metadata": {},
     "output_type": "display_data"
    },
    {
     "data": {
      "image/png": "[encoded data removed]",
      "text/plain": [
       "<Figure size 640x480 with 2 Axes>"
      ]
     },
     "metadata": {},
     "output_type": "display_data"
    },
    {
     "data": {
      "text/plain": [
       "'c = df[\"charges\"]\\n\\nplt.plot(c, linestyle = \\'dotted\\')\\nplt.show()'"
      ]
     },
     "execution_count": 50,
     "metadata": {},
     "output_type": "execute_result"
    }
   ],
   "source": [
    "import pandas as pd\n",
    "import random\n",
    "import matplotlib.pyplot as plt\n",
    "import numpy as np\n",
    "\n",
    "df = pd.read_csv('insurance.csv')\n",
    "print(df)\n",
    "\n",
    "#problem: not random, since every number is unique\n",
    "'''a = random.sample(range(1,100),98)\n",
    "print(sorted(a))'''\n",
    "\n",
    "#trying to solve unique number. every value is okay to be repeated\n",
    "a = [8, 13, 14, 15, 15, 20, 25, 30, 38, 40]\n",
    "#print(sorted(a))\n",
    "\n",
    "b = [5, 4, 18, 14, 20, 24, 28, 33, 30, 37]\n",
    "#b = random.choices(range(1,100),k=200)\n",
    "#print(sorted(b))\n",
    "\n",
    "#create scatterplot\n",
    "plt.scatter(a,b)\n",
    "plt.title(\"this is title\")\n",
    "plt.xlabel(\"X-axis\")\n",
    "plt.ylabel(\"Y-axis\")\n",
    "\n",
    "#calculate equation(?) for trendline\n",
    "z = np.polyfit(a,b,1)\n",
    "p = np.poly1d(z)\n",
    "plt.plot(a,p(a), color=\"red\", linewidth=1, linestyle=\"--\")\n",
    "\n",
    "plt.subplot(3,1,2)\n",
    "\n",
    "plt.show() \n",
    "\n",
    "a = df[\"age\"]\n",
    "b = df[\"charges\"]\n",
    "\n",
    "plt.scatter(a,b)\n",
    "plt.xlabel(\"age\")\n",
    "plt.ylabel(\"charge$\")\n",
    "\n",
    "z = np.polyfit(a,b,1)\n",
    "p = np.poly1d(z)\n",
    "plt.plot(a,p(a), color='red', linewidth=1, linestyle='--')\n",
    "\n",
    "plt.subplot(3,1,3)\n",
    "\n",
    "plt.show()\n",
    "\n",
    "'''c = df[\"charges\"]\n",
    "\n",
    "plt.plot(c, linestyle = 'dotted')\n",
    "plt.show()'''"
   ]
  },
  {
   "cell_type": "markdown",
   "metadata": {},
   "source": [
    "Level 15: Combine multiple plots into one figure using Python (matplotlib.subplot) and R (ggarrange). [done in the 14th level]"
   ]
  },
  {
   "cell_type": "markdown",
   "metadata": {},
   "source": [
    "Level 16: Calculate summary statistics (mean, median, standard deviation) for a numerical column. [done in the 7th level]"
   ]
  },
  {
   "cell_type": "markdown",
   "metadata": {},
   "source": [
    "Level 17: Perform a correlation analysis between two numerical columns and visualize it with a heatmap."
   ]
  },
  {
   "cell_type": "code",
   "execution_count": 29,
   "metadata": {},
   "outputs": [
    {
     "name": "stdout",
     "output_type": "stream",
     "text": [
      "      age     sex     bmi  children smoker     region      charges\n",
      "0      19  female  27.900         0    yes  southwest  16884.92400\n",
      "1      18    male  33.770         1     no  southeast   1725.55230\n",
      "2      28    male  33.000         3     no  southeast   4449.46200\n",
      "3      33    male  22.705         0     no  northwest  21984.47061\n",
      "4      32    male  28.880         0     no  northwest   3866.85520\n",
      "...   ...     ...     ...       ...    ...        ...          ...\n",
      "1333   50    male  30.970         3     no  northwest  10600.54830\n",
      "1334   18  female  31.920         0     no  northeast   2205.98080\n",
      "1335   18  female  36.850         0     no  southeast   1629.83350\n",
      "1336   21  female  25.800         0     no  southwest   2007.94500\n",
      "1337   61  female  29.070         0    yes  northwest  29141.36030\n",
      "\n",
      "[1338 rows x 7 columns]\n",
      " \n",
      "age           int64\n",
      "sex          object\n",
      "bmi         float64\n",
      "children      int64\n",
      "smoker       object\n",
      "region       object\n",
      "charges     float64\n",
      "dtype: object\n",
      " \n",
      "after converting smoker to bool:\n",
      "      age     sex     bmi  children  smoker     region      charges\n",
      "0      19  female  27.900         0    True  southwest  16884.92400\n",
      "1      18    male  33.770         1   False  southeast   1725.55230\n",
      "2      28    male  33.000         3   False  southeast   4449.46200\n",
      "3      33    male  22.705         0   False  northwest  21984.47061\n",
      "4      32    male  28.880         0   False  northwest   3866.85520\n",
      "...   ...     ...     ...       ...     ...        ...          ...\n",
      "1333   50    male  30.970         3   False  northwest  10600.54830\n",
      "1334   18  female  31.920         0   False  northeast   2205.98080\n",
      "1335   18  female  36.850         0   False  southeast   1629.83350\n",
      "1336   21  female  25.800         0   False  southwest   2007.94500\n",
      "1337   61  female  29.070         0    True  northwest  29141.36030\n",
      "\n",
      "[1338 rows x 7 columns]\n",
      "age           int64\n",
      "sex          object\n",
      "bmi         float64\n",
      "children      int64\n",
      "smoker         bool\n",
      "region       object\n",
      "charges     float64\n",
      "dtype: object\n",
      "      age     bmi  children  smoker      charges\n",
      "1006   28  29.260         2   False   4438.26340\n",
      "739    29  35.500         2    True  44585.45587\n",
      "555    28  23.800         2   False   3847.67400\n",
      "1178   23  34.865         0   False   2899.48935\n",
      "157    18  25.175         0    True  15518.18025\n"
     ]
    },
    {
     "name": "stderr",
     "output_type": "stream",
     "text": [
      "C:\\Users\\Ghufron\\AppData\\Local\\Temp\\ipykernel_14876\\845144478.py:11: FutureWarning:\n",
      "\n",
      "Downcasting behavior in `replace` is deprecated and will be removed in a future version. To retain the old behavior, explicitly call `result.infer_objects(copy=False)`. To opt-in to the future behavior, set `pd.set_option('future.no_silent_downcasting', True)`\n",
      "\n"
     ]
    },
    {
     "data": {
      "text/html": [
       "<div>\n",
       "<style scoped>\n",
       "    .dataframe tbody tr th:only-of-type {\n",
       "        vertical-align: middle;\n",
       "    }\n",
       "\n",
       "    .dataframe tbody tr th {\n",
       "        vertical-align: top;\n",
       "    }\n",
       "\n",
       "    .dataframe thead th {\n",
       "        text-align: right;\n",
       "    }\n",
       "</style>\n",
       "<table border=\"1\" class=\"dataframe\">\n",
       "  <thead>\n",
       "    <tr style=\"text-align: right;\">\n",
       "      <th></th>\n",
       "      <th>age</th>\n",
       "      <th>bmi</th>\n",
       "      <th>children</th>\n",
       "      <th>smoker</th>\n",
       "      <th>charges</th>\n",
       "    </tr>\n",
       "  </thead>\n",
       "  <tbody>\n",
       "    <tr>\n",
       "      <th>age</th>\n",
       "      <td>1.000000</td>\n",
       "      <td>0.109272</td>\n",
       "      <td>0.042469</td>\n",
       "      <td>-0.025019</td>\n",
       "      <td>0.299008</td>\n",
       "    </tr>\n",
       "    <tr>\n",
       "      <th>bmi</th>\n",
       "      <td>0.109272</td>\n",
       "      <td>1.000000</td>\n",
       "      <td>0.012759</td>\n",
       "      <td>0.003750</td>\n",
       "      <td>0.198341</td>\n",
       "    </tr>\n",
       "    <tr>\n",
       "      <th>children</th>\n",
       "      <td>0.042469</td>\n",
       "      <td>0.012759</td>\n",
       "      <td>1.000000</td>\n",
       "      <td>0.007673</td>\n",
       "      <td>0.067998</td>\n",
       "    </tr>\n",
       "    <tr>\n",
       "      <th>smoker</th>\n",
       "      <td>-0.025019</td>\n",
       "      <td>0.003750</td>\n",
       "      <td>0.007673</td>\n",
       "      <td>1.000000</td>\n",
       "      <td>0.787251</td>\n",
       "    </tr>\n",
       "    <tr>\n",
       "      <th>charges</th>\n",
       "      <td>0.299008</td>\n",
       "      <td>0.198341</td>\n",
       "      <td>0.067998</td>\n",
       "      <td>0.787251</td>\n",
       "      <td>1.000000</td>\n",
       "    </tr>\n",
       "  </tbody>\n",
       "</table>\n",
       "</div>"
      ],
      "text/plain": [
       "               age       bmi  children    smoker   charges\n",
       "age       1.000000  0.109272  0.042469 -0.025019  0.299008\n",
       "bmi       0.109272  1.000000  0.012759  0.003750  0.198341\n",
       "children  0.042469  0.012759  1.000000  0.007673  0.067998\n",
       "smoker   -0.025019  0.003750  0.007673  1.000000  0.787251\n",
       "charges   0.299008  0.198341  0.067998  0.787251  1.000000"
      ]
     },
     "execution_count": 29,
     "metadata": {},
     "output_type": "execute_result"
    }
   ],
   "source": [
    "import pandas as pd\n",
    "import numpy as np\n",
    "import matplotlib.pyplot as plt\n",
    "\n",
    "df = pd.read_csv(\"insurance.csv\")\n",
    "print(df)\n",
    "print(\" \")\n",
    "print(df.dtypes)\n",
    "\n",
    "#convert smoker to bool\n",
    "df_converted = df.replace({'smoker': {'yes': True, 'no': False}})\n",
    "print(\" \")\n",
    "print(\"after converting smoker to bool:\")\n",
    "print(df_converted)\n",
    "print(df_converted.dtypes)\n",
    "\n",
    "da = df_converted[[\"age\", 'bmi', 'children', 'smoker', 'charges']]\n",
    "print(da.sample(5))\n",
    "da.corr()"
   ]
  },
  {
   "cell_type": "markdown",
   "metadata": {},
   "source": [
    "Level 18: Perform a t-test for comparing means between two groups in Python (scipy) and R (t.test)."
   ]
  },
  {
   "cell_type": "code",
   "execution_count": 55,
   "metadata": {},
   "outputs": [
    {
     "name": "stdout",
     "output_type": "stream",
     "text": [
      "smokers\n",
      "0       16884.92400\n",
      "11      27808.72510\n",
      "14      39611.75770\n",
      "19      36837.46700\n",
      "23      37701.87680\n",
      "           ...     \n",
      "1313    36397.57600\n",
      "1314    18765.87545\n",
      "1321    28101.33305\n",
      "1323    43896.37630\n",
      "1337    29141.36030\n",
      "Name: charges, Length: 274, dtype: float64\n",
      "\n",
      "non smokers:\n",
      "1        1725.55230\n",
      "2        4449.46200\n",
      "3       21984.47061\n",
      "4        3866.85520\n",
      "5        3756.62160\n",
      "           ...     \n",
      "1332    11411.68500\n",
      "1333    10600.54830\n",
      "1334     2205.98080\n",
      "1335     1629.83350\n",
      "1336     2007.94500\n",
      "Name: charges, Length: 1064, dtype: float64\n",
      "\n",
      "T-Statistic: 32.75\n",
      "P-Value: 0.000000\n",
      "Significant difference\n"
     ]
    },
    {
     "name": "stderr",
     "output_type": "stream",
     "text": [
      "C:\\Users\\Ghufron\\AppData\\Local\\Temp\\ipykernel_14876\\2843854568.py:7: FutureWarning:\n",
      "\n",
      "Downcasting behavior in `replace` is deprecated and will be removed in a future version. To retain the old behavior, explicitly call `result.infer_objects(copy=False)`. To opt-in to the future behavior, set `pd.set_option('future.no_silent_downcasting', True)`\n",
      "\n"
     ]
    }
   ],
   "source": [
    "import pandas as pd\n",
    "#import numpy as np\n",
    "#import scipy.stats as stats\n",
    "from scipy.stats import ttest_ind as stats\n",
    "\n",
    "#data prep\n",
    "df = pd.read_csv('insurance.csv').replace({'smoker': {'yes': 1, 'no': 0}})\n",
    "\n",
    "smokers = df.loc[df['smoker'] == True, 'charges']\n",
    "non_smokers = df.loc[df['smoker'] == False, 'charges']\n",
    "\n",
    "#data check\n",
    "print('smokers')\n",
    "print(smokers)\n",
    "\n",
    "print('')\n",
    "\n",
    "print('non smokers:')\n",
    "print(non_smokers)\n",
    "\n",
    "#stats.ttest_ind(a=smokers, b=non_smokers, equal_var=True)\n",
    "t_stat, p_value = stats(smokers, non_smokers, equal_var=False)\n",
    "\n",
    "print('')\n",
    "print(f\"T-Statistic: {t_stat:.2f}\")\n",
    "print(f\"P-Value: {p_value:4f}\")\n",
    "print(\"Significant difference\" if p_value < 0.05 else \"No significant difference\")"
   ]
  },
  {
   "cell_type": "markdown",
   "metadata": {},
   "source": [
    "Level 19: Conduct a chi-square test for categorical variables."
   ]
  },
  {
   "cell_type": "code",
   "execution_count": null,
   "metadata": {},
   "outputs": [
    {
     "name": "stdout",
     "output_type": "stream",
     "text": [
      "     poi_id                              poi_name  \\\n",
      "0      5721               Ruko Rancaekek Majalaya   \n",
      "1      5786                      Ruko Rancamanyar   \n",
      "2     14711    Ruko Perumahan Karisma Rancamanyar   \n",
      "3      5850  Ruko Siliwangi Baleendah Kab Bandung   \n",
      "4      5936               Ruko Taman Kopo Indah 1   \n",
      "..      ...                                   ...   \n",
      "177   10283                       Ruko Mt Haryono   \n",
      "178   10597                  Ruko Gatot Subroto 3   \n",
      "179   11059           Ruko Perintis Kemerdekaan 1   \n",
      "180   11060           Ruko Perintis Kemerdekaan 2   \n",
      "181   11061                   Ruko RA Wiryaatmaja   \n",
      "\n",
      "                                   address criteria_att  \\\n",
      "0    Jl. Raya Majalaya - Rancaekek No. 224           {}   \n",
      "1                               Jl. Seketi           {}   \n",
      "2            Perumahan Karisma Rancamanyar           {}   \n",
      "3                     Jl. Siliwangi No.100           {}   \n",
      "4                   Jl. Bojong Haur No. 27           {}   \n",
      "..                                     ...          ...   \n",
      "177                         Jl. Mt Haryono           {}   \n",
      "178                Jl. Jend. Gatot Subroto           {}   \n",
      "179               Jl. Perintis Kemerdekaan           {}   \n",
      "180               Jl. Perintis Kemerdekaan           {}   \n",
      "181                     Jl. RA Wiryaatmaja           {}   \n",
      "\n",
      "                                            detail_att  latitude   longitude  \\\n",
      "0    {\"Rental Price (IDR)\": 2916000, \"Building Area... -6.958764  107.759105   \n",
      "1    {\"Rental Price (IDR)\": 120000000, \"Building Ar... -6.983850  107.595288   \n",
      "2    {\"Rental Price (IDR)\": 30000000, \"Building Are... -6.987693  107.585337   \n",
      "3    {\"Rental Price (IDR)\": 33000000, \"Building Are... -7.008757  107.636883   \n",
      "4    {\"Rental Price (IDR)\": 90000000, \"Building Are... -6.963141  107.555091   \n",
      "..                                                 ...       ...         ...   \n",
      "177  {\"Rental Price (IDR)\": 75000000, \"Building Are... -7.427306  109.251057   \n",
      "178  {\"Rental Price (IDR)\": 75000000, \"Building Are... -7.419779  109.228927   \n",
      "179  {\"Rental Price (IDR)\": 60000000, \"Building Are... -7.428412  109.240524   \n",
      "180  {\"Rental Price (IDR)\": 60000000, \"Building Are... -7.428765  109.240518   \n",
      "181  {\"Rental Price (IDR)\": 60000000, \"Building Are... -7.419894  109.226946   \n",
      "\n",
      "            nama_desa            nama_kec nama_kota    nama_prov subcategory  \\\n",
      "0     Rancaekek Wetan           Rancaekek   Bandung   Jawa Barat   Shophouse   \n",
      "1         Rancamanyar           Baleendah   Bandung   Jawa Barat   Shophouse   \n",
      "2         Rancamanyar           Baleendah   Bandung   Jawa Barat   Shophouse   \n",
      "3           Baleendah           Baleendah   Bandung   Jawa Barat   Shophouse   \n",
      "4              Rahayu           Margaasih   Bandung   Jawa Barat   Shophouse   \n",
      "..                ...                 ...       ...          ...         ...   \n",
      "177  Purwokerto Wetan    Purwokerto Timur  Banyumas  Jawa Tengah   Shophouse   \n",
      "178        Sokanegara    Purwokerto Timur  Banyumas  Jawa Tengah   Shophouse   \n",
      "179  Purwokerto Kulon  Purwokerto Selatan  Banyumas  Jawa Tengah   Shophouse   \n",
      "180  Purwokerto Kulon  Purwokerto Selatan  Banyumas  Jawa Tengah   Shophouse   \n",
      "181       Kedungwuluh    Purwokerto Barat  Banyumas  Jawa Tengah   Shophouse   \n",
      "\n",
      "                     category  \\\n",
      "0    Commercial Area Property   \n",
      "1    Commercial Area Property   \n",
      "2    Commercial Area Property   \n",
      "3    Commercial Area Property   \n",
      "4    Commercial Area Property   \n",
      "..                        ...   \n",
      "177  Commercial Area Property   \n",
      "178  Commercial Area Property   \n",
      "179  Commercial Area Property   \n",
      "180  Commercial Area Property   \n",
      "181  Commercial Area Property   \n",
      "\n",
      "                                              geometry  \n",
      "0    b'\\x01\\x01\\x00\\x00\\x00M\\xda\\x95-\\x95\\xf0Z@\\xd7...  \n",
      "1    b'\\x01\\x01\\x00\\x00\\x00v\\xc3\\x872\\x19\\xe6Z@$\\xa...  \n",
      "2    b\"\\x01\\x01\\x00\\x00\\x00\\x1e\\xea\\x92'v\\xe5Z@\\x1b...  \n",
      "3    b'\\x01\\x01\\x00\\x00\\x00\\xfd\\xa9\\xe3\\xb1\\xc2\\xe8...  \n",
      "4    b'\\x01\\x01\\x00\\x00\\x00\\x9e\\xef.\\x9c\\x86\\xe3Z@\\...  \n",
      "..                                                 ...  \n",
      "177  b'\\x01\\x01\\x00\\x00\\x00V[cP\\x11P[@h:Z\\xa6\\x8f\\x...  \n",
      "178  b'\\x01\\x01\\x00\\x00\\x00\\xa3O\\x96\\xbd\\xa6N[@\\xcc...  \n",
      "179  b'\\x01\\x01\\x00\\x00\\x00i\\xb6/\\xbddO[@\\x1c\\xee\\x...  \n",
      "180  b'\\x01\\x01\\x00\\x00\\x00\\xf4\\xa9\\xff\\xa5dO[@\\xd1...  \n",
      "181  b'\\x01\\x01\\x00\\x00\\x00\\xaacjH\\x86N[@6\\xd1\\x15\\...  \n",
      "\n",
      "[182 rows x 14 columns]\n"
     ]
    }
   ],
   "source": []
  },
  {
   "cell_type": "markdown",
   "metadata": {},
   "source": [
    "Level 20: Perform a linear regression analysis and interpret the coefficients."
   ]
  },
  {
   "cell_type": "code",
   "execution_count": null,
   "metadata": {},
   "outputs": [],
   "source": [
    "'\n"
   ]
  },
  {
   "cell_type": "markdown",
   "metadata": {},
   "source": [
    "Level 21: Merge two datasets using a common key in Python (pandas.merge) and R (merge)."
   ]
  },
  {
   "cell_type": "code",
   "execution_count": null,
   "metadata": {},
   "outputs": [],
   "source": []
  },
  {
   "cell_type": "markdown",
   "metadata": {},
   "source": [
    "Level 22: Group data by a categorical variable and calculate aggregated statistics (e.g., mean, count)."
   ]
  },
  {
   "cell_type": "code",
   "execution_count": null,
   "metadata": {},
   "outputs": [],
   "source": []
  },
  {
   "cell_type": "markdown",
   "metadata": {},
   "source": [
    "Level 23: Reshape data between wide and long formats using Python (pandas.melt) and R (tidyr::pivot_longer)."
   ]
  },
  {
   "cell_type": "code",
   "execution_count": null,
   "metadata": {},
   "outputs": [],
   "source": []
  },
  {
   "cell_type": "markdown",
   "metadata": {},
   "source": [
    "Level 24: Handle time-series data (e.g., parse dates, calculate rolling averages)."
   ]
  },
  {
   "cell_type": "code",
   "execution_count": null,
   "metadata": {},
   "outputs": [],
   "source": []
  },
  {
   "cell_type": "markdown",
   "metadata": {},
   "source": [
    "Level 25: Create new variables based on existing columns (e.g., calculate a profit margin column)."
   ]
  },
  {
   "cell_type": "code",
   "execution_count": null,
   "metadata": {},
   "outputs": [],
   "source": []
  },
  {
   "cell_type": "markdown",
   "metadata": {},
   "source": [
    "Level 26: Build a simple classification model using Python (scikit-learn) and R (caret)."
   ]
  },
  {
   "cell_type": "code",
   "execution_count": null,
   "metadata": {},
   "outputs": [],
   "source": []
  },
  {
   "cell_type": "markdown",
   "metadata": {},
   "source": [
    "Level 27: Perform cross-validation to evaluate your model."
   ]
  },
  {
   "cell_type": "code",
   "execution_count": null,
   "metadata": {},
   "outputs": [],
   "source": []
  },
  {
   "cell_type": "markdown",
   "metadata": {},
   "source": [
    "Level 28: Create an interactive dashboard using Python (Plotly Dash) and R (Shiny)."
   ]
  },
  {
   "cell_type": "code",
   "execution_count": null,
   "metadata": {},
   "outputs": [],
   "source": []
  },
  {
   "cell_type": "markdown",
   "metadata": {},
   "source": [
    "Level 29: Automate a data analysis pipeline that reads raw data, cleans it, performs analysis, and saves results."
   ]
  },
  {
   "cell_type": "code",
   "execution_count": null,
   "metadata": {},
   "outputs": [],
   "source": []
  },
  {
   "cell_type": "markdown",
   "metadata": {},
   "source": [
    "Level 30: Apply your skills to a real-world dataset (e.g., Kaggle) and produce a complete report, including data cleaning, analysis, visualization, and insights."
   ]
  },
  {
   "cell_type": "code",
   "execution_count": null,
   "metadata": {},
   "outputs": [],
   "source": [
    "TextDisplayObject"
   ]
  }
 ],
 "metadata": {
  "kernelspec": {
   "display_name": "Python 3",
   "language": "python",
   "name": "python3"
  },
  "language_info": {
   "codemirror_mode": {
    "name": "ipython",
    "version": 3
   },
   "file_extension": ".py",
   "mimetype": "text/x-python",
   "name": "python",
   "nbconvert_exporter": "python",
   "pygments_lexer": "ipython3",
   "version": "3.13.0"
  }
 },
 "nbformat": 4,
 "nbformat_minor": 2
}
