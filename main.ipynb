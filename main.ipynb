{
 "cells": [
  {
   "cell_type": "markdown",
   "metadata": {},
   "source": [
    "Level 1 - Hello World"
   ]
  },
  {
   "cell_type": "code",
   "execution_count": 2,
   "metadata": {},
   "outputs": [
    {
     "name": "stdout",
     "output_type": "stream",
     "text": [
      "hello world\n"
     ]
    }
   ],
   "source": [
    "print(\"hello world\")"
   ]
  },
  {
   "cell_type": "markdown",
   "metadata": {},
   "source": [
    "Level 2 - Create & Save Simple Notebook / Script (considered done)"
   ]
  },
  {
   "cell_type": "markdown",
   "metadata": {},
   "source": [
    "Level 3 - Learn basic data type and variables in Py"
   ]
  },
  {
   "cell_type": "markdown",
   "metadata": {},
   "source": [
    "Data Types in Python\n",
    "Int: numeric - 20\n",
    "Float: numeric - 20.5\n",
    "Str: text - \"Hello World\" \n",
    "List: sequence - [\"apple\", \"banana\", \"cherry\"]\n",
    "Dict: mapping - {\"name\" : \"John\", \"age\" : 30}\n",
    "\n",
    "Variables in Python\n",
    "Default declaration: x = 5\n",
    "Declare with casting: x = int(5)\n",
    "note: \"John\" = 'John' #string\n",
    "note: a = 4 is NOT the same as A = 4 #variable are case sensitive\n"
   ]
  },
  {
   "cell_type": "markdown",
   "metadata": {},
   "source": [
    "Level 4 - write a program to perform basic arithmetic operations in Python"
   ]
  },
  {
   "cell_type": "code",
   "execution_count": null,
   "metadata": {},
   "outputs": [
    {
     "name": "stdout",
     "output_type": "stream",
     "text": [
      "the value of addition is: 5\n",
      "the value of substraction is: 1\n",
      "the value of multiplication is: 6\n",
      "the value of division is: 3.3333333333333335\n",
      "the value of modulus is: 25\n",
      "the value of exponentiation is: 8\n",
      "the value of floor division is: 3\n"
     ]
    }
   ],
   "source": [
    "addition = 2+3\n",
    "print('the value of addition is:', addition)\n",
    "\n",
    "substraction = 3 - 2\n",
    "print('the value of substraction is:', substraction)\n",
    "\n",
    "multiplication = 2 * 3\n",
    "print('the value of multiplication is:', multiplication)\n",
    "\n",
    "division=10 / 3\n",
    "print('the value of division is:', division)\n",
    "\n",
    "modulus = 100 % 75 #modulus count the remainder. 100 divided by 75 is 1 with remainder 25\n",
    "print('the value of modulus is:', modulus)\n",
    "\n",
    "exponentiation = 2**3 #2 to the power of 3. 2*2*2\n",
    "print('the value of exponentiation is:', exponentiation)\n",
    "\n",
    "floor_division = 10 // 3 #floor division is the same as division but it will round down to the nearest whole number\n",
    "print('the value of floor division is:', floor_division)\n",
    "\n"
   ]
  },
  {
   "cell_type": "markdown",
   "metadata": {},
   "source": [
    "Level 5 - create a list of number in Python and calculate the sum and mean of the list"
   ]
  },
  {
   "cell_type": "code",
   "execution_count": 38,
   "metadata": {},
   "outputs": [
    {
     "name": "stdout",
     "output_type": "stream",
     "text": [
      "the first element of the list is 10\n",
      "the list is containing the following numbers: [10, 20, 30, 40, 50]\n",
      "after adding append, the list is now: [10, 20, 30, 40, 50, 60]\n",
      "the sum of list_of_number is 150 from a list that containing the following numbers [10, 20, 30, 40, 50]\n",
      "the mean of list_of_number is 30.0 from a list that containing the following numbers [10, 20, 30, 40, 50]\n"
     ]
    }
   ],
   "source": [
    "list = [10, 20, 30, 40, 50]\n",
    "print('the first element of the list is',list[0])\n",
    "print('the list is containing the following numbers:',list)\n",
    "\n",
    "appended_list = list.copy()\n",
    "appended_list.append(60)\n",
    "print('after adding append, the list is now:',appended_list)\n",
    "\n",
    "total = sum(list)\n",
    "print('the sum of list_of_number is', total,'from a list that containing the following numbers', list)\n",
    "\n",
    "mean = total / len(list)\n",
    "print('the mean of list_of_number is', mean,'from a list that containing the following numbers', list)"
   ]
  },
  {
   "cell_type": "markdown",
   "metadata": {},
   "source": [
    "Level 6 - read a csv file into Python using Pandas"
   ]
  },
  {
   "cell_type": "code",
   "execution_count": 1,
   "metadata": {},
   "outputs": [
    {
     "name": "stdout",
     "output_type": "stream",
     "text": [
      "                                                     name alpha-2 alpha-3  country-code     iso_3166-2    region                       sub-region intermediate-region  region-code  sub-region-code  intermediate-region-code\n",
      "0                                             Afghanistan      AF     AFG             4  ISO 3166-2:AF      Asia                    Southern Asia                 NaN        142.0             34.0                       NaN\n",
      "1                                           Åland Islands      AX     ALA           248  ISO 3166-2:AX    Europe                  Northern Europe                 NaN        150.0            154.0                       NaN\n",
      "2                                                 Albania      AL     ALB             8  ISO 3166-2:AL    Europe                  Southern Europe                 NaN        150.0             39.0                       NaN\n",
      "3                                                 Algeria      DZ     DZA            12  ISO 3166-2:DZ    Africa                  Northern Africa                 NaN          2.0             15.0                       NaN\n",
      "4                                          American Samoa      AS     ASM            16  ISO 3166-2:AS   Oceania                        Polynesia                 NaN          9.0             61.0                       NaN\n",
      "5                                                 Andorra      AD     AND            20  ISO 3166-2:AD    Europe                  Southern Europe                 NaN        150.0             39.0                       NaN\n",
      "6                                                  Angola      AO     AGO            24  ISO 3166-2:AO    Africa               Sub-Saharan Africa       Middle Africa          2.0            202.0                      17.0\n",
      "7                                                Anguilla      AI     AIA           660  ISO 3166-2:AI  Americas  Latin America and the Caribbean           Caribbean         19.0            419.0                      29.0\n",
      "8                                              Antarctica      AQ     ATA            10  ISO 3166-2:AQ       NaN                              NaN                 NaN          NaN              NaN                       NaN\n",
      "9                                     Antigua and Barbuda      AG     ATG            28  ISO 3166-2:AG  Americas  Latin America and the Caribbean           Caribbean         19.0            419.0                      29.0\n",
      "10                                              Argentina      AR     ARG            32  ISO 3166-2:AR  Americas  Latin America and the Caribbean       South America         19.0            419.0                       5.0\n",
      "11                                                Armenia      AM     ARM            51  ISO 3166-2:AM      Asia                     Western Asia                 NaN        142.0            145.0                       NaN\n",
      "12                                                  Aruba      AW     ABW           533  ISO 3166-2:AW  Americas  Latin America and the Caribbean           Caribbean         19.0            419.0                      29.0\n",
      "13                                              Australia      AU     AUS            36  ISO 3166-2:AU   Oceania        Australia and New Zealand                 NaN          9.0             53.0                       NaN\n",
      "14                                                Austria      AT     AUT            40  ISO 3166-2:AT    Europe                   Western Europe                 NaN        150.0            155.0                       NaN\n",
      "15                                             Azerbaijan      AZ     AZE            31  ISO 3166-2:AZ      Asia                     Western Asia                 NaN        142.0            145.0                       NaN\n",
      "16                                                Bahamas      BS     BHS            44  ISO 3166-2:BS  Americas  Latin America and the Caribbean           Caribbean         19.0            419.0                      29.0\n",
      "17                                                Bahrain      BH     BHR            48  ISO 3166-2:BH      Asia                     Western Asia                 NaN        142.0            145.0                       NaN\n",
      "18                                             Bangladesh      BD     BGD            50  ISO 3166-2:BD      Asia                    Southern Asia                 NaN        142.0             34.0                       NaN\n",
      "19                                               Barbados      BB     BRB            52  ISO 3166-2:BB  Americas  Latin America and the Caribbean           Caribbean         19.0            419.0                      29.0\n",
      "20                                                Belarus      BY     BLR           112  ISO 3166-2:BY    Europe                   Eastern Europe                 NaN        150.0            151.0                       NaN\n",
      "21                                                Belgium      BE     BEL            56  ISO 3166-2:BE    Europe                   Western Europe                 NaN        150.0            155.0                       NaN\n",
      "22                                                 Belize      BZ     BLZ            84  ISO 3166-2:BZ  Americas  Latin America and the Caribbean     Central America         19.0            419.0                      13.0\n",
      "23                                                  Benin      BJ     BEN           204  ISO 3166-2:BJ    Africa               Sub-Saharan Africa      Western Africa          2.0            202.0                      11.0\n",
      "24                                                Bermuda      BM     BMU            60  ISO 3166-2:BM  Americas                 Northern America                 NaN         19.0             21.0                       NaN\n",
      "25                                                 Bhutan      BT     BTN            64  ISO 3166-2:BT      Asia                    Southern Asia                 NaN        142.0             34.0                       NaN\n",
      "26                       Bolivia (Plurinational State of)      BO     BOL            68  ISO 3166-2:BO  Americas  Latin America and the Caribbean       South America         19.0            419.0                       5.0\n",
      "27                       Bonaire, Sint Eustatius and Saba      BQ     BES           535  ISO 3166-2:BQ  Americas  Latin America and the Caribbean           Caribbean         19.0            419.0                      29.0\n",
      "28                                 Bosnia and Herzegovina      BA     BIH            70  ISO 3166-2:BA    Europe                  Southern Europe                 NaN        150.0             39.0                       NaN\n",
      "29                                               Botswana      BW     BWA            72  ISO 3166-2:BW    Africa               Sub-Saharan Africa     Southern Africa          2.0            202.0                      18.0\n",
      "30                                          Bouvet Island      BV     BVT            74  ISO 3166-2:BV  Americas  Latin America and the Caribbean       South America         19.0            419.0                       5.0\n",
      "31                                                 Brazil      BR     BRA            76  ISO 3166-2:BR  Americas  Latin America and the Caribbean       South America         19.0            419.0                       5.0\n",
      "32                         British Indian Ocean Territory      IO     IOT            86  ISO 3166-2:IO    Africa               Sub-Saharan Africa      Eastern Africa          2.0            202.0                      14.0\n",
      "33                                      Brunei Darussalam      BN     BRN            96  ISO 3166-2:BN      Asia               South-eastern Asia                 NaN        142.0             35.0                       NaN\n",
      "34                                               Bulgaria      BG     BGR           100  ISO 3166-2:BG    Europe                   Eastern Europe                 NaN        150.0            151.0                       NaN\n",
      "35                                           Burkina Faso      BF     BFA           854  ISO 3166-2:BF    Africa               Sub-Saharan Africa      Western Africa          2.0            202.0                      11.0\n",
      "36                                                Burundi      BI     BDI           108  ISO 3166-2:BI    Africa               Sub-Saharan Africa      Eastern Africa          2.0            202.0                      14.0\n",
      "37                                             Cabo Verde      CV     CPV           132  ISO 3166-2:CV    Africa               Sub-Saharan Africa      Western Africa          2.0            202.0                      11.0\n",
      "38                                               Cambodia      KH     KHM           116  ISO 3166-2:KH      Asia               South-eastern Asia                 NaN        142.0             35.0                       NaN\n",
      "39                                               Cameroon      CM     CMR           120  ISO 3166-2:CM    Africa               Sub-Saharan Africa       Middle Africa          2.0            202.0                      17.0\n",
      "40                                                 Canada      CA     CAN           124  ISO 3166-2:CA  Americas                 Northern America                 NaN         19.0             21.0                       NaN\n",
      "41                                         Cayman Islands      KY     CYM           136  ISO 3166-2:KY  Americas  Latin America and the Caribbean           Caribbean         19.0            419.0                      29.0\n",
      "42                               Central African Republic      CF     CAF           140  ISO 3166-2:CF    Africa               Sub-Saharan Africa       Middle Africa          2.0            202.0                      17.0\n",
      "43                                                   Chad      TD     TCD           148  ISO 3166-2:TD    Africa               Sub-Saharan Africa       Middle Africa          2.0            202.0                      17.0\n",
      "44                                                  Chile      CL     CHL           152  ISO 3166-2:CL  Americas  Latin America and the Caribbean       South America         19.0            419.0                       5.0\n",
      "45                                                  China      CN     CHN           156  ISO 3166-2:CN      Asia                     Eastern Asia                 NaN        142.0             30.0                       NaN\n",
      "46                                       Christmas Island      CX     CXR           162  ISO 3166-2:CX   Oceania        Australia and New Zealand                 NaN          9.0             53.0                       NaN\n",
      "47                                Cocos (Keeling) Islands      CC     CCK           166  ISO 3166-2:CC   Oceania        Australia and New Zealand                 NaN          9.0             53.0                       NaN\n",
      "48                                               Colombia      CO     COL           170  ISO 3166-2:CO  Americas  Latin America and the Caribbean       South America         19.0            419.0                       5.0\n",
      "49                                                Comoros      KM     COM           174  ISO 3166-2:KM    Africa               Sub-Saharan Africa      Eastern Africa          2.0            202.0                      14.0\n",
      "50                                                  Congo      CG     COG           178  ISO 3166-2:CG    Africa               Sub-Saharan Africa       Middle Africa          2.0            202.0                      17.0\n",
      "51                     Congo (Democratic Republic of the)      CD     COD           180  ISO 3166-2:CD    Africa               Sub-Saharan Africa       Middle Africa          2.0            202.0                      17.0\n",
      "52                                           Cook Islands      CK     COK           184  ISO 3166-2:CK   Oceania                        Polynesia                 NaN          9.0             61.0                       NaN\n",
      "53                                             Costa Rica      CR     CRI           188  ISO 3166-2:CR  Americas  Latin America and the Caribbean     Central America         19.0            419.0                      13.0\n",
      "54                                          Côte d'Ivoire      CI     CIV           384  ISO 3166-2:CI    Africa               Sub-Saharan Africa      Western Africa          2.0            202.0                      11.0\n",
      "55                                                Croatia      HR     HRV           191  ISO 3166-2:HR    Europe                  Southern Europe                 NaN        150.0             39.0                       NaN\n",
      "56                                                   Cuba      CU     CUB           192  ISO 3166-2:CU  Americas  Latin America and the Caribbean           Caribbean         19.0            419.0                      29.0\n",
      "57                                                Curaçao      CW     CUW           531  ISO 3166-2:CW  Americas  Latin America and the Caribbean           Caribbean         19.0            419.0                      29.0\n",
      "58                                                 Cyprus      CY     CYP           196  ISO 3166-2:CY      Asia                     Western Asia                 NaN        142.0            145.0                       NaN\n",
      "59                                                Czechia      CZ     CZE           203  ISO 3166-2:CZ    Europe                   Eastern Europe                 NaN        150.0            151.0                       NaN\n",
      "60                                                Denmark      DK     DNK           208  ISO 3166-2:DK    Europe                  Northern Europe                 NaN        150.0            154.0                       NaN\n",
      "61                                               Djibouti      DJ     DJI           262  ISO 3166-2:DJ    Africa               Sub-Saharan Africa      Eastern Africa          2.0            202.0                      14.0\n",
      "62                                               Dominica      DM     DMA           212  ISO 3166-2:DM  Americas  Latin America and the Caribbean           Caribbean         19.0            419.0                      29.0\n",
      "63                                     Dominican Republic      DO     DOM           214  ISO 3166-2:DO  Americas  Latin America and the Caribbean           Caribbean         19.0            419.0                      29.0\n",
      "64                                                Ecuador      EC     ECU           218  ISO 3166-2:EC  Americas  Latin America and the Caribbean       South America         19.0            419.0                       5.0\n",
      "65                                                  Egypt      EG     EGY           818  ISO 3166-2:EG    Africa                  Northern Africa                 NaN          2.0             15.0                       NaN\n",
      "66                                            El Salvador      SV     SLV           222  ISO 3166-2:SV  Americas  Latin America and the Caribbean     Central America         19.0            419.0                      13.0\n",
      "67                                      Equatorial Guinea      GQ     GNQ           226  ISO 3166-2:GQ    Africa               Sub-Saharan Africa       Middle Africa          2.0            202.0                      17.0\n",
      "68                                                Eritrea      ER     ERI           232  ISO 3166-2:ER    Africa               Sub-Saharan Africa      Eastern Africa          2.0            202.0                      14.0\n",
      "69                                                Estonia      EE     EST           233  ISO 3166-2:EE    Europe                  Northern Europe                 NaN        150.0            154.0                       NaN\n",
      "70                                               Eswatini      SZ     SWZ           748  ISO 3166-2:SZ    Africa               Sub-Saharan Africa     Southern Africa          2.0            202.0                      18.0\n",
      "71                                               Ethiopia      ET     ETH           231  ISO 3166-2:ET    Africa               Sub-Saharan Africa      Eastern Africa          2.0            202.0                      14.0\n",
      "72                            Falkland Islands (Malvinas)      FK     FLK           238  ISO 3166-2:FK  Americas  Latin America and the Caribbean       South America         19.0            419.0                       5.0\n",
      "73                                          Faroe Islands      FO     FRO           234  ISO 3166-2:FO    Europe                  Northern Europe                 NaN        150.0            154.0                       NaN\n",
      "74                                                   Fiji      FJ     FJI           242  ISO 3166-2:FJ   Oceania                        Melanesia                 NaN          9.0             54.0                       NaN\n",
      "75                                                Finland      FI     FIN           246  ISO 3166-2:FI    Europe                  Northern Europe                 NaN        150.0            154.0                       NaN\n",
      "76                                                 France      FR     FRA           250  ISO 3166-2:FR    Europe                   Western Europe                 NaN        150.0            155.0                       NaN\n",
      "77                                          French Guiana      GF     GUF           254  ISO 3166-2:GF  Americas  Latin America and the Caribbean       South America         19.0            419.0                       5.0\n",
      "78                                       French Polynesia      PF     PYF           258  ISO 3166-2:PF   Oceania                        Polynesia                 NaN          9.0             61.0                       NaN\n",
      "79                            French Southern Territories      TF     ATF           260  ISO 3166-2:TF    Africa               Sub-Saharan Africa      Eastern Africa          2.0            202.0                      14.0\n",
      "80                                                  Gabon      GA     GAB           266  ISO 3166-2:GA    Africa               Sub-Saharan Africa       Middle Africa          2.0            202.0                      17.0\n",
      "81                                                 Gambia      GM     GMB           270  ISO 3166-2:GM    Africa               Sub-Saharan Africa      Western Africa          2.0            202.0                      11.0\n",
      "82                                                Georgia      GE     GEO           268  ISO 3166-2:GE      Asia                     Western Asia                 NaN        142.0            145.0                       NaN\n",
      "83                                                Germany      DE     DEU           276  ISO 3166-2:DE    Europe                   Western Europe                 NaN        150.0            155.0                       NaN\n",
      "84                                                  Ghana      GH     GHA           288  ISO 3166-2:GH    Africa               Sub-Saharan Africa      Western Africa          2.0            202.0                      11.0\n",
      "85                                              Gibraltar      GI     GIB           292  ISO 3166-2:GI    Europe                  Southern Europe                 NaN        150.0             39.0                       NaN\n",
      "86                                                 Greece      GR     GRC           300  ISO 3166-2:GR    Europe                  Southern Europe                 NaN        150.0             39.0                       NaN\n",
      "87                                              Greenland      GL     GRL           304  ISO 3166-2:GL  Americas                 Northern America                 NaN         19.0             21.0                       NaN\n",
      "88                                                Grenada      GD     GRD           308  ISO 3166-2:GD  Americas  Latin America and the Caribbean           Caribbean         19.0            419.0                      29.0\n",
      "89                                             Guadeloupe      GP     GLP           312  ISO 3166-2:GP  Americas  Latin America and the Caribbean           Caribbean         19.0            419.0                      29.0\n",
      "90                                                   Guam      GU     GUM           316  ISO 3166-2:GU   Oceania                       Micronesia                 NaN          9.0             57.0                       NaN\n",
      "91                                              Guatemala      GT     GTM           320  ISO 3166-2:GT  Americas  Latin America and the Caribbean     Central America         19.0            419.0                      13.0\n",
      "92                                               Guernsey      GG     GGY           831  ISO 3166-2:GG    Europe                  Northern Europe     Channel Islands        150.0            154.0                     830.0\n",
      "93                                                 Guinea      GN     GIN           324  ISO 3166-2:GN    Africa               Sub-Saharan Africa      Western Africa          2.0            202.0                      11.0\n",
      "94                                          Guinea-Bissau      GW     GNB           624  ISO 3166-2:GW    Africa               Sub-Saharan Africa      Western Africa          2.0            202.0                      11.0\n",
      "95                                                 Guyana      GY     GUY           328  ISO 3166-2:GY  Americas  Latin America and the Caribbean       South America         19.0            419.0                       5.0\n",
      "96                                                  Haiti      HT     HTI           332  ISO 3166-2:HT  Americas  Latin America and the Caribbean           Caribbean         19.0            419.0                      29.0\n",
      "97                      Heard Island and McDonald Islands      HM     HMD           334  ISO 3166-2:HM   Oceania        Australia and New Zealand                 NaN          9.0             53.0                       NaN\n",
      "98                                               Holy See      VA     VAT           336  ISO 3166-2:VA    Europe                  Southern Europe                 NaN        150.0             39.0                       NaN\n",
      "99                                               Honduras      HN     HND           340  ISO 3166-2:HN  Americas  Latin America and the Caribbean     Central America         19.0            419.0                      13.0\n",
      "100                                             Hong Kong      HK     HKG           344  ISO 3166-2:HK      Asia                     Eastern Asia                 NaN        142.0             30.0                       NaN\n",
      "101                                               Hungary      HU     HUN           348  ISO 3166-2:HU    Europe                   Eastern Europe                 NaN        150.0            151.0                       NaN\n",
      "102                                               Iceland      IS     ISL           352  ISO 3166-2:IS    Europe                  Northern Europe                 NaN        150.0            154.0                       NaN\n",
      "103                                                 India      IN     IND           356  ISO 3166-2:IN      Asia                    Southern Asia                 NaN        142.0             34.0                       NaN\n",
      "104                                             Indonesia      ID     IDN           360  ISO 3166-2:ID      Asia               South-eastern Asia                 NaN        142.0             35.0                       NaN\n",
      "105                            Iran (Islamic Republic of)      IR     IRN           364  ISO 3166-2:IR      Asia                    Southern Asia                 NaN        142.0             34.0                       NaN\n",
      "106                                                  Iraq      IQ     IRQ           368  ISO 3166-2:IQ      Asia                     Western Asia                 NaN        142.0            145.0                       NaN\n",
      "107                                               Ireland      IE     IRL           372  ISO 3166-2:IE    Europe                  Northern Europe                 NaN        150.0            154.0                       NaN\n",
      "108                                           Isle of Man      IM     IMN           833  ISO 3166-2:IM    Europe                  Northern Europe                 NaN        150.0            154.0                       NaN\n",
      "109                                                Israel      IL     ISR           376  ISO 3166-2:IL      Asia                     Western Asia                 NaN        142.0            145.0                       NaN\n",
      "110                                                 Italy      IT     ITA           380  ISO 3166-2:IT    Europe                  Southern Europe                 NaN        150.0             39.0                       NaN\n",
      "111                                               Jamaica      JM     JAM           388  ISO 3166-2:JM  Americas  Latin America and the Caribbean           Caribbean         19.0            419.0                      29.0\n",
      "112                                                 Japan      JP     JPN           392  ISO 3166-2:JP      Asia                     Eastern Asia                 NaN        142.0             30.0                       NaN\n",
      "113                                                Jersey      JE     JEY           832  ISO 3166-2:JE    Europe                  Northern Europe     Channel Islands        150.0            154.0                     830.0\n",
      "114                                                Jordan      JO     JOR           400  ISO 3166-2:JO      Asia                     Western Asia                 NaN        142.0            145.0                       NaN\n",
      "115                                            Kazakhstan      KZ     KAZ           398  ISO 3166-2:KZ      Asia                     Central Asia                 NaN        142.0            143.0                       NaN\n",
      "116                                                 Kenya      KE     KEN           404  ISO 3166-2:KE    Africa               Sub-Saharan Africa      Eastern Africa          2.0            202.0                      14.0\n",
      "117                                              Kiribati      KI     KIR           296  ISO 3166-2:KI   Oceania                       Micronesia                 NaN          9.0             57.0                       NaN\n",
      "118               Korea (Democratic People's Republic of)      KP     PRK           408  ISO 3166-2:KP      Asia                     Eastern Asia                 NaN        142.0             30.0                       NaN\n",
      "119                                   Korea (Republic of)      KR     KOR           410  ISO 3166-2:KR      Asia                     Eastern Asia                 NaN        142.0             30.0                       NaN\n",
      "120                                                Kuwait      KW     KWT           414  ISO 3166-2:KW      Asia                     Western Asia                 NaN        142.0            145.0                       NaN\n",
      "121                                            Kyrgyzstan      KG     KGZ           417  ISO 3166-2:KG      Asia                     Central Asia                 NaN        142.0            143.0                       NaN\n",
      "122                      Lao People's Democratic Republic      LA     LAO           418  ISO 3166-2:LA      Asia               South-eastern Asia                 NaN        142.0             35.0                       NaN\n",
      "123                                                Latvia      LV     LVA           428  ISO 3166-2:LV    Europe                  Northern Europe                 NaN        150.0            154.0                       NaN\n",
      "124                                               Lebanon      LB     LBN           422  ISO 3166-2:LB      Asia                     Western Asia                 NaN        142.0            145.0                       NaN\n",
      "125                                               Lesotho      LS     LSO           426  ISO 3166-2:LS    Africa               Sub-Saharan Africa     Southern Africa          2.0            202.0                      18.0\n",
      "126                                               Liberia      LR     LBR           430  ISO 3166-2:LR    Africa               Sub-Saharan Africa      Western Africa          2.0            202.0                      11.0\n",
      "127                                                 Libya      LY     LBY           434  ISO 3166-2:LY    Africa                  Northern Africa                 NaN          2.0             15.0                       NaN\n",
      "128                                         Liechtenstein      LI     LIE           438  ISO 3166-2:LI    Europe                   Western Europe                 NaN        150.0            155.0                       NaN\n",
      "129                                             Lithuania      LT     LTU           440  ISO 3166-2:LT    Europe                  Northern Europe                 NaN        150.0            154.0                       NaN\n",
      "130                                            Luxembourg      LU     LUX           442  ISO 3166-2:LU    Europe                   Western Europe                 NaN        150.0            155.0                       NaN\n",
      "131                                                 Macao      MO     MAC           446  ISO 3166-2:MO      Asia                     Eastern Asia                 NaN        142.0             30.0                       NaN\n",
      "132           Macedonia (the former Yugoslav Republic of)      MK     MKD           807  ISO 3166-2:MK    Europe                  Southern Europe                 NaN        150.0             39.0                       NaN\n",
      "133                                            Madagascar      MG     MDG           450  ISO 3166-2:MG    Africa               Sub-Saharan Africa      Eastern Africa          2.0            202.0                      14.0\n",
      "134                                                Malawi      MW     MWI           454  ISO 3166-2:MW    Africa               Sub-Saharan Africa      Eastern Africa          2.0            202.0                      14.0\n",
      "135                                              Malaysia      MY     MYS           458  ISO 3166-2:MY      Asia               South-eastern Asia                 NaN        142.0             35.0                       NaN\n",
      "136                                              Maldives      MV     MDV           462  ISO 3166-2:MV      Asia                    Southern Asia                 NaN        142.0             34.0                       NaN\n",
      "137                                                  Mali      ML     MLI           466  ISO 3166-2:ML    Africa               Sub-Saharan Africa      Western Africa          2.0            202.0                      11.0\n",
      "138                                                 Malta      MT     MLT           470  ISO 3166-2:MT    Europe                  Southern Europe                 NaN        150.0             39.0                       NaN\n",
      "139                                      Marshall Islands      MH     MHL           584  ISO 3166-2:MH   Oceania                       Micronesia                 NaN          9.0             57.0                       NaN\n",
      "140                                            Martinique      MQ     MTQ           474  ISO 3166-2:MQ  Americas  Latin America and the Caribbean           Caribbean         19.0            419.0                      29.0\n",
      "141                                            Mauritania      MR     MRT           478  ISO 3166-2:MR    Africa               Sub-Saharan Africa      Western Africa          2.0            202.0                      11.0\n",
      "142                                             Mauritius      MU     MUS           480  ISO 3166-2:MU    Africa               Sub-Saharan Africa      Eastern Africa          2.0            202.0                      14.0\n",
      "143                                               Mayotte      YT     MYT           175  ISO 3166-2:YT    Africa               Sub-Saharan Africa      Eastern Africa          2.0            202.0                      14.0\n",
      "144                                                Mexico      MX     MEX           484  ISO 3166-2:MX  Americas  Latin America and the Caribbean     Central America         19.0            419.0                      13.0\n",
      "145                      Micronesia (Federated States of)      FM     FSM           583  ISO 3166-2:FM   Oceania                       Micronesia                 NaN          9.0             57.0                       NaN\n",
      "146                                 Moldova (Republic of)      MD     MDA           498  ISO 3166-2:MD    Europe                   Eastern Europe                 NaN        150.0            151.0                       NaN\n",
      "147                                                Monaco      MC     MCO           492  ISO 3166-2:MC    Europe                   Western Europe                 NaN        150.0            155.0                       NaN\n",
      "148                                              Mongolia      MN     MNG           496  ISO 3166-2:MN      Asia                     Eastern Asia                 NaN        142.0             30.0                       NaN\n",
      "149                                            Montenegro      ME     MNE           499  ISO 3166-2:ME    Europe                  Southern Europe                 NaN        150.0             39.0                       NaN\n",
      "150                                            Montserrat      MS     MSR           500  ISO 3166-2:MS  Americas  Latin America and the Caribbean           Caribbean         19.0            419.0                      29.0\n",
      "151                                               Morocco      MA     MAR           504  ISO 3166-2:MA    Africa                  Northern Africa                 NaN          2.0             15.0                       NaN\n",
      "152                                            Mozambique      MZ     MOZ           508  ISO 3166-2:MZ    Africa               Sub-Saharan Africa      Eastern Africa          2.0            202.0                      14.0\n",
      "153                                               Myanmar      MM     MMR           104  ISO 3166-2:MM      Asia               South-eastern Asia                 NaN        142.0             35.0                       NaN\n",
      "154                                               Namibia     NaN     NAM           516  ISO 3166-2:NA    Africa               Sub-Saharan Africa     Southern Africa          2.0            202.0                      18.0\n",
      "155                                                 Nauru      NR     NRU           520  ISO 3166-2:NR   Oceania                       Micronesia                 NaN          9.0             57.0                       NaN\n",
      "156                                                 Nepal      NP     NPL           524  ISO 3166-2:NP      Asia                    Southern Asia                 NaN        142.0             34.0                       NaN\n",
      "157                                           Netherlands      NL     NLD           528  ISO 3166-2:NL    Europe                   Western Europe                 NaN        150.0            155.0                       NaN\n",
      "158                                         New Caledonia      NC     NCL           540  ISO 3166-2:NC   Oceania                        Melanesia                 NaN          9.0             54.0                       NaN\n",
      "159                                           New Zealand      NZ     NZL           554  ISO 3166-2:NZ   Oceania        Australia and New Zealand                 NaN          9.0             53.0                       NaN\n",
      "160                                             Nicaragua      NI     NIC           558  ISO 3166-2:NI  Americas  Latin America and the Caribbean     Central America         19.0            419.0                      13.0\n",
      "161                                                 Niger      NE     NER           562  ISO 3166-2:NE    Africa               Sub-Saharan Africa      Western Africa          2.0            202.0                      11.0\n",
      "162                                               Nigeria      NG     NGA           566  ISO 3166-2:NG    Africa               Sub-Saharan Africa      Western Africa          2.0            202.0                      11.0\n",
      "163                                                  Niue      NU     NIU           570  ISO 3166-2:NU   Oceania                        Polynesia                 NaN          9.0             61.0                       NaN\n",
      "164                                        Norfolk Island      NF     NFK           574  ISO 3166-2:NF   Oceania        Australia and New Zealand                 NaN          9.0             53.0                       NaN\n",
      "165                              Northern Mariana Islands      MP     MNP           580  ISO 3166-2:MP   Oceania                       Micronesia                 NaN          9.0             57.0                       NaN\n",
      "166                                                Norway      NO     NOR           578  ISO 3166-2:NO    Europe                  Northern Europe                 NaN        150.0            154.0                       NaN\n",
      "167                                                  Oman      OM     OMN           512  ISO 3166-2:OM      Asia                     Western Asia                 NaN        142.0            145.0                       NaN\n",
      "168                                              Pakistan      PK     PAK           586  ISO 3166-2:PK      Asia                    Southern Asia                 NaN        142.0             34.0                       NaN\n",
      "169                                                 Palau      PW     PLW           585  ISO 3166-2:PW   Oceania                       Micronesia                 NaN          9.0             57.0                       NaN\n",
      "170                                   Palestine, State of      PS     PSE           275  ISO 3166-2:PS      Asia                     Western Asia                 NaN        142.0            145.0                       NaN\n",
      "171                                                Panama      PA     PAN           591  ISO 3166-2:PA  Americas  Latin America and the Caribbean     Central America         19.0            419.0                      13.0\n",
      "172                                      Papua New Guinea      PG     PNG           598  ISO 3166-2:PG   Oceania                        Melanesia                 NaN          9.0             54.0                       NaN\n",
      "173                                              Paraguay      PY     PRY           600  ISO 3166-2:PY  Americas  Latin America and the Caribbean       South America         19.0            419.0                       5.0\n",
      "174                                                  Peru      PE     PER           604  ISO 3166-2:PE  Americas  Latin America and the Caribbean       South America         19.0            419.0                       5.0\n",
      "175                                           Philippines      PH     PHL           608  ISO 3166-2:PH      Asia               South-eastern Asia                 NaN        142.0             35.0                       NaN\n",
      "176                                              Pitcairn      PN     PCN           612  ISO 3166-2:PN   Oceania                        Polynesia                 NaN          9.0             61.0                       NaN\n",
      "177                                                Poland      PL     POL           616  ISO 3166-2:PL    Europe                   Eastern Europe                 NaN        150.0            151.0                       NaN\n",
      "178                                              Portugal      PT     PRT           620  ISO 3166-2:PT    Europe                  Southern Europe                 NaN        150.0             39.0                       NaN\n",
      "179                                           Puerto Rico      PR     PRI           630  ISO 3166-2:PR  Americas  Latin America and the Caribbean           Caribbean         19.0            419.0                      29.0\n",
      "180                                                 Qatar      QA     QAT           634  ISO 3166-2:QA      Asia                     Western Asia                 NaN        142.0            145.0                       NaN\n",
      "181                                               Réunion      RE     REU           638  ISO 3166-2:RE    Africa               Sub-Saharan Africa      Eastern Africa          2.0            202.0                      14.0\n",
      "182                                               Romania      RO     ROU           642  ISO 3166-2:RO    Europe                   Eastern Europe                 NaN        150.0            151.0                       NaN\n",
      "183                                    Russian Federation      RU     RUS           643  ISO 3166-2:RU    Europe                   Eastern Europe                 NaN        150.0            151.0                       NaN\n",
      "184                                                Rwanda      RW     RWA           646  ISO 3166-2:RW    Africa               Sub-Saharan Africa      Eastern Africa          2.0            202.0                      14.0\n",
      "185                                      Saint Barthélemy      BL     BLM           652  ISO 3166-2:BL  Americas  Latin America and the Caribbean           Caribbean         19.0            419.0                      29.0\n",
      "186          Saint Helena, Ascension and Tristan da Cunha      SH     SHN           654  ISO 3166-2:SH    Africa               Sub-Saharan Africa      Western Africa          2.0            202.0                      11.0\n",
      "187                                 Saint Kitts and Nevis      KN     KNA           659  ISO 3166-2:KN  Americas  Latin America and the Caribbean           Caribbean         19.0            419.0                      29.0\n",
      "188                                           Saint Lucia      LC     LCA           662  ISO 3166-2:LC  Americas  Latin America and the Caribbean           Caribbean         19.0            419.0                      29.0\n",
      "189                            Saint Martin (French part)      MF     MAF           663  ISO 3166-2:MF  Americas  Latin America and the Caribbean           Caribbean         19.0            419.0                      29.0\n",
      "190                             Saint Pierre and Miquelon      PM     SPM           666  ISO 3166-2:PM  Americas                 Northern America                 NaN         19.0             21.0                       NaN\n",
      "191                      Saint Vincent and the Grenadines      VC     VCT           670  ISO 3166-2:VC  Americas  Latin America and the Caribbean           Caribbean         19.0            419.0                      29.0\n",
      "192                                                 Samoa      WS     WSM           882  ISO 3166-2:WS   Oceania                        Polynesia                 NaN          9.0             61.0                       NaN\n",
      "193                                            San Marino      SM     SMR           674  ISO 3166-2:SM    Europe                  Southern Europe                 NaN        150.0             39.0                       NaN\n",
      "194                                 Sao Tome and Principe      ST     STP           678  ISO 3166-2:ST    Africa               Sub-Saharan Africa       Middle Africa          2.0            202.0                      17.0\n",
      "195                                          Saudi Arabia      SA     SAU           682  ISO 3166-2:SA      Asia                     Western Asia                 NaN        142.0            145.0                       NaN\n",
      "196                                               Senegal      SN     SEN           686  ISO 3166-2:SN    Africa               Sub-Saharan Africa      Western Africa          2.0            202.0                      11.0\n",
      "197                                                Serbia      RS     SRB           688  ISO 3166-2:RS    Europe                  Southern Europe                 NaN        150.0             39.0                       NaN\n",
      "198                                            Seychelles      SC     SYC           690  ISO 3166-2:SC    Africa               Sub-Saharan Africa      Eastern Africa          2.0            202.0                      14.0\n",
      "199                                          Sierra Leone      SL     SLE           694  ISO 3166-2:SL    Africa               Sub-Saharan Africa      Western Africa          2.0            202.0                      11.0\n",
      "200                                             Singapore      SG     SGP           702  ISO 3166-2:SG      Asia               South-eastern Asia                 NaN        142.0             35.0                       NaN\n",
      "201                             Sint Maarten (Dutch part)      SX     SXM           534  ISO 3166-2:SX  Americas  Latin America and the Caribbean           Caribbean         19.0            419.0                      29.0\n",
      "202                                              Slovakia      SK     SVK           703  ISO 3166-2:SK    Europe                   Eastern Europe                 NaN        150.0            151.0                       NaN\n",
      "203                                              Slovenia      SI     SVN           705  ISO 3166-2:SI    Europe                  Southern Europe                 NaN        150.0             39.0                       NaN\n",
      "204                                       Solomon Islands      SB     SLB            90  ISO 3166-2:SB   Oceania                        Melanesia                 NaN          9.0             54.0                       NaN\n",
      "205                                               Somalia      SO     SOM           706  ISO 3166-2:SO    Africa               Sub-Saharan Africa      Eastern Africa          2.0            202.0                      14.0\n",
      "206                                          South Africa      ZA     ZAF           710  ISO 3166-2:ZA    Africa               Sub-Saharan Africa     Southern Africa          2.0            202.0                      18.0\n",
      "207          South Georgia and the South Sandwich Islands      GS     SGS           239  ISO 3166-2:GS  Americas  Latin America and the Caribbean       South America         19.0            419.0                       5.0\n",
      "208                                           South Sudan      SS     SSD           728  ISO 3166-2:SS    Africa               Sub-Saharan Africa      Eastern Africa          2.0            202.0                      14.0\n",
      "209                                                 Spain      ES     ESP           724  ISO 3166-2:ES    Europe                  Southern Europe                 NaN        150.0             39.0                       NaN\n",
      "210                                             Sri Lanka      LK     LKA           144  ISO 3166-2:LK      Asia                    Southern Asia                 NaN        142.0             34.0                       NaN\n",
      "211                                                 Sudan      SD     SDN           729  ISO 3166-2:SD    Africa                  Northern Africa                 NaN          2.0             15.0                       NaN\n",
      "212                                              Suriname      SR     SUR           740  ISO 3166-2:SR  Americas  Latin America and the Caribbean       South America         19.0            419.0                       5.0\n",
      "213                                Svalbard and Jan Mayen      SJ     SJM           744  ISO 3166-2:SJ    Europe                  Northern Europe                 NaN        150.0            154.0                       NaN\n",
      "214                                                Sweden      SE     SWE           752  ISO 3166-2:SE    Europe                  Northern Europe                 NaN        150.0            154.0                       NaN\n",
      "215                                           Switzerland      CH     CHE           756  ISO 3166-2:CH    Europe                   Western Europe                 NaN        150.0            155.0                       NaN\n",
      "216                                  Syrian Arab Republic      SY     SYR           760  ISO 3166-2:SY      Asia                     Western Asia                 NaN        142.0            145.0                       NaN\n",
      "217                             Taiwan, Province of China      TW     TWN           158  ISO 3166-2:TW      Asia                     Eastern Asia                 NaN        142.0             30.0                       NaN\n",
      "218                                            Tajikistan      TJ     TJK           762  ISO 3166-2:TJ      Asia                     Central Asia                 NaN        142.0            143.0                       NaN\n",
      "219                          Tanzania, United Republic of      TZ     TZA           834  ISO 3166-2:TZ    Africa               Sub-Saharan Africa      Eastern Africa          2.0            202.0                      14.0\n",
      "220                                              Thailand      TH     THA           764  ISO 3166-2:TH      Asia               South-eastern Asia                 NaN        142.0             35.0                       NaN\n",
      "221                                           Timor-Leste      TL     TLS           626  ISO 3166-2:TL      Asia               South-eastern Asia                 NaN        142.0             35.0                       NaN\n",
      "222                                                  Togo      TG     TGO           768  ISO 3166-2:TG    Africa               Sub-Saharan Africa      Western Africa          2.0            202.0                      11.0\n",
      "223                                               Tokelau      TK     TKL           772  ISO 3166-2:TK   Oceania                        Polynesia                 NaN          9.0             61.0                       NaN\n",
      "224                                                 Tonga      TO     TON           776  ISO 3166-2:TO   Oceania                        Polynesia                 NaN          9.0             61.0                       NaN\n",
      "225                                   Trinidad and Tobago      TT     TTO           780  ISO 3166-2:TT  Americas  Latin America and the Caribbean           Caribbean         19.0            419.0                      29.0\n",
      "226                                               Tunisia      TN     TUN           788  ISO 3166-2:TN    Africa                  Northern Africa                 NaN          2.0             15.0                       NaN\n",
      "227                                                Turkey      TR     TUR           792  ISO 3166-2:TR      Asia                     Western Asia                 NaN        142.0            145.0                       NaN\n",
      "228                                          Turkmenistan      TM     TKM           795  ISO 3166-2:TM      Asia                     Central Asia                 NaN        142.0            143.0                       NaN\n",
      "229                              Turks and Caicos Islands      TC     TCA           796  ISO 3166-2:TC  Americas  Latin America and the Caribbean           Caribbean         19.0            419.0                      29.0\n",
      "230                                                Tuvalu      TV     TUV           798  ISO 3166-2:TV   Oceania                        Polynesia                 NaN          9.0             61.0                       NaN\n",
      "231                                                Uganda      UG     UGA           800  ISO 3166-2:UG    Africa               Sub-Saharan Africa      Eastern Africa          2.0            202.0                      14.0\n",
      "232                                               Ukraine      UA     UKR           804  ISO 3166-2:UA    Europe                   Eastern Europe                 NaN        150.0            151.0                       NaN\n",
      "233                                  United Arab Emirates      AE     ARE           784  ISO 3166-2:AE      Asia                     Western Asia                 NaN        142.0            145.0                       NaN\n",
      "234  United Kingdom of Great Britain and Northern Ireland      GB     GBR           826  ISO 3166-2:GB    Europe                  Northern Europe                 NaN        150.0            154.0                       NaN\n",
      "235                              United States of America      US     USA           840  ISO 3166-2:US  Americas                 Northern America                 NaN         19.0             21.0                       NaN\n",
      "236                  United States Minor Outlying Islands      UM     UMI           581  ISO 3166-2:UM   Oceania                       Micronesia                 NaN          9.0             57.0                       NaN\n",
      "237                                               Uruguay      UY     URY           858  ISO 3166-2:UY  Americas  Latin America and the Caribbean       South America         19.0            419.0                       5.0\n",
      "238                                            Uzbekistan      UZ     UZB           860  ISO 3166-2:UZ      Asia                     Central Asia                 NaN        142.0            143.0                       NaN\n",
      "239                                               Vanuatu      VU     VUT           548  ISO 3166-2:VU   Oceania                        Melanesia                 NaN          9.0             54.0                       NaN\n",
      "240                    Venezuela (Bolivarian Republic of)      VE     VEN           862  ISO 3166-2:VE  Americas  Latin America and the Caribbean       South America         19.0            419.0                       5.0\n",
      "241                                              Viet Nam      VN     VNM           704  ISO 3166-2:VN      Asia               South-eastern Asia                 NaN        142.0             35.0                       NaN\n",
      "242                              Virgin Islands (British)      VG     VGB            92  ISO 3166-2:VG  Americas  Latin America and the Caribbean           Caribbean         19.0            419.0                      29.0\n",
      "243                                 Virgin Islands (U.S.)      VI     VIR           850  ISO 3166-2:VI  Americas  Latin America and the Caribbean           Caribbean         19.0            419.0                      29.0\n",
      "244                                     Wallis and Futuna      WF     WLF           876  ISO 3166-2:WF   Oceania                        Polynesia                 NaN          9.0             61.0                       NaN\n",
      "245                                        Western Sahara      EH     ESH           732  ISO 3166-2:EH    Africa                  Northern Africa                 NaN          2.0             15.0                       NaN\n",
      "246                                                 Yemen      YE     YEM           887  ISO 3166-2:YE      Asia                     Western Asia                 NaN        142.0            145.0                       NaN\n",
      "247                                                Zambia      ZM     ZMB           894  ISO 3166-2:ZM    Africa               Sub-Saharan Africa      Eastern Africa          2.0            202.0                      14.0\n",
      "248                                              Zimbabwe      ZW     ZWE           716  ISO 3166-2:ZW    Africa               Sub-Saharan Africa      Eastern Africa          2.0            202.0                      14.0\n"
     ]
    }
   ],
   "source": [
    "import pandas as pd\n",
    "\n",
    "df = pd.read_csv('country_full.csv')\n",
    "\n",
    "print(df.to_string())"
   ]
  },
  {
   "cell_type": "markdown",
   "metadata": {},
   "source": [
    "Level 7 - Perform basic data inspection (column names, data type, and summary statistic) in Python"
   ]
  },
  {
   "cell_type": "code",
   "execution_count": null,
   "metadata": {},
   "outputs": [],
   "source": []
  },
  {
   "cell_type": "markdown",
   "metadata": {},
   "source": [
    "Level 8: Filter rows based on a condition (e.g., select rows where a column value > 50)."
   ]
  },
  {
   "cell_type": "code",
   "execution_count": null,
   "metadata": {},
   "outputs": [],
   "source": []
  },
  {
   "cell_type": "markdown",
   "metadata": {},
   "source": [
    "Level 9: Handle missing data by replacing NA/NaN with a specific value in Python and R."
   ]
  },
  {
   "cell_type": "code",
   "execution_count": null,
   "metadata": {},
   "outputs": [],
   "source": []
  },
  {
   "cell_type": "markdown",
   "metadata": {},
   "source": [
    "Level 10: Save a filtered or modified dataset back to a new CSV file in both Python and R."
   ]
  },
  {
   "cell_type": "code",
   "execution_count": null,
   "metadata": {},
   "outputs": [],
   "source": []
  },
  {
   "cell_type": "markdown",
   "metadata": {},
   "source": [
    "Level 11: Create a basic line plot using Python (matplotlib) and R (plot)."
   ]
  },
  {
   "cell_type": "code",
   "execution_count": null,
   "metadata": {},
   "outputs": [],
   "source": []
  },
  {
   "cell_type": "markdown",
   "metadata": {},
   "source": [
    "Level 12: Generate a bar plot for categorical data using Python (seaborn) and R (ggplot2)."
   ]
  },
  {
   "cell_type": "code",
   "execution_count": null,
   "metadata": {},
   "outputs": [],
   "source": []
  },
  {
   "cell_type": "markdown",
   "metadata": {},
   "source": [
    "Level 13: Create a histogram to visualize the distribution of numerical data."
   ]
  },
  {
   "cell_type": "code",
   "execution_count": null,
   "metadata": {},
   "outputs": [],
   "source": []
  },
  {
   "cell_type": "markdown",
   "metadata": {},
   "source": [
    "Level 14: Generate a scatter plot with labels and a trendline in Python and R"
   ]
  },
  {
   "cell_type": "code",
   "execution_count": null,
   "metadata": {},
   "outputs": [],
   "source": []
  },
  {
   "cell_type": "markdown",
   "metadata": {},
   "source": [
    "Level 15: Combine multiple plots into one figure using Python (matplotlib.subplot) and R (ggarrange)."
   ]
  },
  {
   "cell_type": "code",
   "execution_count": null,
   "metadata": {},
   "outputs": [],
   "source": []
  },
  {
   "cell_type": "markdown",
   "metadata": {},
   "source": [
    "Level 16: Calculate summary statistics (mean, median, standard deviation) for a numerical column."
   ]
  },
  {
   "cell_type": "code",
   "execution_count": null,
   "metadata": {},
   "outputs": [],
   "source": []
  },
  {
   "cell_type": "markdown",
   "metadata": {},
   "source": [
    "Level 17: Perform a correlation analysis between two numerical columns and visualize it with a heatmap."
   ]
  },
  {
   "cell_type": "code",
   "execution_count": null,
   "metadata": {},
   "outputs": [],
   "source": []
  },
  {
   "cell_type": "markdown",
   "metadata": {},
   "source": [
    "Level 18: Perform a t-test for comparing means between two groups in Python (scipy) and R (t.test)."
   ]
  },
  {
   "cell_type": "code",
   "execution_count": null,
   "metadata": {},
   "outputs": [],
   "source": []
  },
  {
   "cell_type": "markdown",
   "metadata": {},
   "source": [
    "Level 19: Conduct a chi-square test for categorical variables."
   ]
  },
  {
   "cell_type": "code",
   "execution_count": null,
   "metadata": {},
   "outputs": [],
   "source": []
  },
  {
   "cell_type": "markdown",
   "metadata": {},
   "source": [
    "Level 20: Perform a linear regression analysis and interpret the coefficients."
   ]
  },
  {
   "cell_type": "code",
   "execution_count": null,
   "metadata": {},
   "outputs": [],
   "source": []
  },
  {
   "cell_type": "markdown",
   "metadata": {},
   "source": [
    "Level 21: Merge two datasets using a common key in Python (pandas.merge) and R (merge)."
   ]
  },
  {
   "cell_type": "code",
   "execution_count": null,
   "metadata": {},
   "outputs": [],
   "source": []
  },
  {
   "cell_type": "markdown",
   "metadata": {},
   "source": [
    "Level 22: Group data by a categorical variable and calculate aggregated statistics (e.g., mean, count)."
   ]
  },
  {
   "cell_type": "code",
   "execution_count": null,
   "metadata": {},
   "outputs": [],
   "source": []
  },
  {
   "cell_type": "markdown",
   "metadata": {},
   "source": [
    "Level 23: Reshape data between wide and long formats using Python (pandas.melt) and R (tidyr::pivot_longer)."
   ]
  },
  {
   "cell_type": "code",
   "execution_count": null,
   "metadata": {},
   "outputs": [],
   "source": []
  },
  {
   "cell_type": "markdown",
   "metadata": {},
   "source": [
    "Level 24: Handle time-series data (e.g., parse dates, calculate rolling averages)."
   ]
  },
  {
   "cell_type": "code",
   "execution_count": null,
   "metadata": {},
   "outputs": [],
   "source": []
  },
  {
   "cell_type": "markdown",
   "metadata": {},
   "source": [
    "Level 25: Create new variables based on existing columns (e.g., calculate a profit margin column)."
   ]
  },
  {
   "cell_type": "code",
   "execution_count": null,
   "metadata": {},
   "outputs": [],
   "source": []
  },
  {
   "cell_type": "markdown",
   "metadata": {},
   "source": [
    "Level 26: Build a simple classification model using Python (scikit-learn) and R (caret)."
   ]
  },
  {
   "cell_type": "code",
   "execution_count": null,
   "metadata": {},
   "outputs": [],
   "source": []
  },
  {
   "cell_type": "markdown",
   "metadata": {},
   "source": [
    "Level 27: Perform cross-validation to evaluate your model."
   ]
  },
  {
   "cell_type": "code",
   "execution_count": null,
   "metadata": {},
   "outputs": [],
   "source": []
  },
  {
   "cell_type": "markdown",
   "metadata": {},
   "source": [
    "Level 28: Create an interactive dashboard using Python (Plotly Dash) and R (Shiny)."
   ]
  },
  {
   "cell_type": "code",
   "execution_count": null,
   "metadata": {},
   "outputs": [],
   "source": []
  },
  {
   "cell_type": "markdown",
   "metadata": {},
   "source": [
    "Level 29: Automate a data analysis pipeline that reads raw data, cleans it, performs analysis, and saves results."
   ]
  },
  {
   "cell_type": "code",
   "execution_count": null,
   "metadata": {},
   "outputs": [],
   "source": []
  },
  {
   "cell_type": "markdown",
   "metadata": {},
   "source": [
    "Level 30: Apply your skills to a real-world dataset (e.g., Kaggle) and produce a complete report, including data cleaning, analysis, visualization, and insights."
   ]
  },
  {
   "cell_type": "code",
   "execution_count": null,
   "metadata": {},
   "outputs": [],
   "source": []
  }
 ],
 "metadata": {
  "kernelspec": {
   "display_name": "Python 3",
   "language": "python",
   "name": "python3"
  },
  "language_info": {
   "codemirror_mode": {
    "name": "ipython",
    "version": 3
   },
   "file_extension": ".py",
   "mimetype": "text/x-python",
   "name": "python",
   "nbconvert_exporter": "python",
   "pygments_lexer": "ipython3",
   "version": "3.13.0"
  }
 },
 "nbformat": 4,
 "nbformat_minor": 2
}
