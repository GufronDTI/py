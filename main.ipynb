{
 "cells": [
  {
   "cell_type": "markdown",
   "metadata": {},
   "source": [
    "Level 1 - Hello World"
   ]
  },
  {
   "cell_type": "code",
   "execution_count": 2,
   "metadata": {},
   "outputs": [
    {
     "name": "stdout",
     "output_type": "stream",
     "text": [
      "hello world\n"
     ]
    }
   ],
   "source": [
    "print(\"hello world\")"
   ]
  },
  {
   "cell_type": "markdown",
   "metadata": {},
   "source": [
    "Level 2 - Create & Save Simple Notebook / Script (considered done)"
   ]
  },
  {
   "cell_type": "markdown",
   "metadata": {},
   "source": [
    "Level 3 - Learn basic data type and variables in Py"
   ]
  },
  {
   "cell_type": "markdown",
   "metadata": {},
   "source": [
    "Data Types in Python\n",
    "Int: numeric - 20\n",
    "Float: numeric - 20.5\n",
    "Str: text - \"Hello World\" \n",
    "List: sequence - [\"apple\", \"banana\", \"cherry\"]\n",
    "Dict: mapping - {\"name\" : \"John\", \"age\" : 30}\n",
    "\n",
    "Variables in Python\n",
    "Default declaration: x = 5\n",
    "Declare with casting: x = int(5)\n",
    "note: \"John\" = 'John' #string\n",
    "note: a = 4 is NOT the same as A = 4 #variable are case sensitive\n"
   ]
  },
  {
   "cell_type": "markdown",
   "metadata": {},
   "source": [
    "Level 4 - write a program to perform basic arithmetic operations in Python"
   ]
  },
  {
   "cell_type": "code",
   "execution_count": null,
   "metadata": {},
   "outputs": [
    {
     "name": "stdout",
     "output_type": "stream",
     "text": [
      "the value of addition is: 5\n",
      "the value of substraction is: 1\n",
      "the value of multiplication is: 6\n",
      "the value of division is: 3.3333333333333335\n",
      "the value of modulus is: 25\n",
      "the value of exponentiation is: 8\n",
      "the value of floor division is: 3\n"
     ]
    }
   ],
   "source": [
    "addition = 2+3\n",
    "print('the value of addition is:', addition)\n",
    "\n",
    "substraction = 3 - 2\n",
    "print('the value of substraction is:', substraction)\n",
    "\n",
    "multiplication = 2 * 3\n",
    "print('the value of multiplication is:', multiplication)\n",
    "\n",
    "division=10 / 3\n",
    "print('the value of division is:', division)\n",
    "\n",
    "modulus = 100 % 75 #modulus count the remainder. 100 divided by 75 is 1 with remainder 25\n",
    "print('the value of modulus is:', modulus)\n",
    "\n",
    "exponentiation = 2**3 #2 to the power of 3. 2*2*2\n",
    "print('the value of exponentiation is:', exponentiation)\n",
    "\n",
    "floor_division = 10 // 3 #floor division is the same as division but it will round down to the nearest whole number\n",
    "print('the value of floor division is:', floor_division)\n",
    "\n"
   ]
  },
  {
   "cell_type": "markdown",
   "metadata": {},
   "source": [
    "Level 5 - create a list of number in Python and calculate the sum and mean of the list"
   ]
  },
  {
   "cell_type": "code",
   "execution_count": 38,
   "metadata": {},
   "outputs": [
    {
     "name": "stdout",
     "output_type": "stream",
     "text": [
      "the first element of the list is 10\n",
      "the list is containing the following numbers: [10, 20, 30, 40, 50]\n",
      "after adding append, the list is now: [10, 20, 30, 40, 50, 60]\n",
      "the sum of list_of_number is 150 from a list that containing the following numbers [10, 20, 30, 40, 50]\n",
      "the mean of list_of_number is 30.0 from a list that containing the following numbers [10, 20, 30, 40, 50]\n"
     ]
    }
   ],
   "source": [
    "list = [10, 20, 30, 40, 50]\n",
    "print('the first element of the list is',list[0])\n",
    "print('the list is containing the following numbers:',list)\n",
    "\n",
    "appended_list = list.copy()\n",
    "appended_list.append(60)\n",
    "print('after adding append, the list is now:',appended_list)\n",
    "\n",
    "total = sum(list)\n",
    "print('the sum of list_of_number is', total,'from a list that containing the following numbers', list)\n",
    "\n",
    "mean = total / len(list)\n",
    "print('the mean of list_of_number is', mean,'from a list that containing the following numbers', list)"
   ]
  },
  {
   "cell_type": "markdown",
   "metadata": {},
   "source": [
    "Level 6 - read a csv file into Python using Pandas"
   ]
  },
  {
   "cell_type": "code",
   "execution_count": 84,
   "metadata": {},
   "outputs": [
    {
     "name": "stdout",
     "output_type": "stream",
     "text": [
      "                         Industry  id\n",
      "0              Accounting/Finance   1\n",
      "1    Advertising/Public Relations   2\n",
      "2              Aerospace/Aviation   3\n",
      "3   Arts/Entertainment/Publishing   4\n",
      "4                      Automotive   5\n",
      "5                Banking/Mortgage   6\n",
      "6            Business Development   7\n",
      "7            Business Opportunity   8\n",
      "8         Clerical/Administrative   9\n",
      "9         Construction/Facilities  10\n",
      "10                 Consumer Goods  11\n",
      "11               Customer Service  12\n",
      "12             Education/Training  13\n",
      "13               Energy/Utilities  14\n",
      "14                    Engineering  15\n",
      "15            Government/Military  16\n",
      "16                          Green  17\n",
      "17                     Healthcare  18\n",
      "18             Hospitality/Travel  19\n",
      "19                Human Resources  20\n",
      "20       Installation/Maintenance  21\n",
      "21                      Insurance  22\n",
      "22                       Internet  23\n",
      "23                Job Search Aids  24\n",
      "24       Law Enforcement/Security  25\n",
      "25                          Legal  26\n",
      "26           Management/Executive  27\n",
      "27       Manufacturing/Operations  28\n",
      "28                      Marketing  29\n",
      "29           Non-Profit/Volunteer  30\n",
      "30         Pharmaceutical/Biotech  31\n",
      "31          Professional Services  32\n",
      "32             QA/Quality Control  33\n",
      "33                    Real Estate  34\n",
      "34        Restaurant/Food Service  35\n",
      "35                         Retail  36\n",
      "36                          Sales  37\n",
      "37               Science/Research  38\n",
      "38                  Skilled Labor  39\n",
      "39                     Technology  40\n",
      "40             Telecommunications  41\n",
      "41       Transportation/Logistics  42\n",
      "42                          Other  43\n"
     ]
    }
   ],
   "source": [
    "import pandas as pd\n",
    "\n",
    "df = pd.read_csv('industry.csv')\n",
    "\n",
    "print(df.to_string())"
   ]
  },
  {
   "cell_type": "markdown",
   "metadata": {},
   "source": [
    "Level 7 - Perform basic data inspection (column names, data type, and summary statistic) in Python"
   ]
  },
  {
   "cell_type": "code",
   "execution_count": 83,
   "metadata": {},
   "outputs": [
    {
     "name": "stdout",
     "output_type": "stream",
     "text": [
      "                         Industry  id\n",
      "0              Accounting/Finance   1\n",
      "1    Advertising/Public Relations   2\n",
      "2              Aerospace/Aviation   3\n",
      "3   Arts/Entertainment/Publishing   4\n",
      "4                      Automotive   5\n",
      "5                Banking/Mortgage   6\n",
      "6            Business Development   7\n",
      "7            Business Opportunity   8\n",
      "8         Clerical/Administrative   9\n",
      "9         Construction/Facilities  10\n",
      "10                 Consumer Goods  11\n",
      "11               Customer Service  12\n",
      "12             Education/Training  13\n",
      "13               Energy/Utilities  14\n",
      "14                    Engineering  15\n",
      "15            Government/Military  16\n",
      "16                          Green  17\n",
      "17                     Healthcare  18\n",
      "18             Hospitality/Travel  19\n",
      "19                Human Resources  20\n",
      "20       Installation/Maintenance  21\n",
      "21                      Insurance  22\n",
      "22                       Internet  23\n",
      "23                Job Search Aids  24\n",
      "24       Law Enforcement/Security  25\n",
      "25                          Legal  26\n",
      "26           Management/Executive  27\n",
      "27       Manufacturing/Operations  28\n",
      "28                      Marketing  29\n",
      "29           Non-Profit/Volunteer  30\n",
      "30         Pharmaceutical/Biotech  31\n",
      "31          Professional Services  32\n",
      "32             QA/Quality Control  33\n",
      "33                    Real Estate  34\n",
      "34        Restaurant/Food Service  35\n",
      "35                         Retail  36\n",
      "36                          Sales  37\n",
      "37               Science/Research  38\n",
      "38                  Skilled Labor  39\n",
      "39                     Technology  40\n",
      "40             Telecommunications  41\n",
      "41       Transportation/Logistics  42\n",
      "42                          Other  43\n",
      "no 1:  Index(['Industry', 'id'], dtype='object')\n",
      "no 2:  id\n",
      "no 3:  Industry    object\n",
      "id           int64\n",
      "dtype: object\n",
      "no 4:  int64\n",
      "              id\n",
      "count  43.000000\n",
      "mean   22.000000\n",
      "std    12.556539\n",
      "min     1.000000\n",
      "25%    11.500000\n",
      "50%    22.000000\n",
      "75%    32.500000\n",
      "max    43.000000\n"
     ]
    }
   ],
   "source": [
    "import pandas as pd\n",
    "import numpy as np\n",
    "\n",
    "df = pd.read_csv('industry.csv')\n",
    "\n",
    "print(df)\n",
    "print('no 1: ',df.columns) #inspect column names\n",
    "print('no 2: ',df.columns[1]) #inspect specific column name\n",
    "print('no 3: ',df.dtypes) #inspect data types\n",
    "print('no 4: ',df[df.columns[1]].dtypes) #inspect specific column data type\n",
    "print(df.describe()) #summary statistic\n",
    "\n",
    "\n",
    "\n"
   ]
  },
  {
   "cell_type": "markdown",
   "metadata": {},
   "source": [
    "Level 8: Filter rows based on a condition (e.g., select rows where a column value > 50)."
   ]
  },
  {
   "cell_type": "code",
   "execution_count": 97,
   "metadata": {},
   "outputs": [
    {
     "name": "stdout",
     "output_type": "stream",
     "text": [
      "   Industry  id\n",
      "12      NaN  13\n"
     ]
    }
   ],
   "source": [
    "import pandas as pd\n",
    "\n",
    "df = pd.read_csv('industry.csv')\n",
    "\n",
    "filter = df.query('id == 13')\n",
    "\n",
    "print(filter)"
   ]
  },
  {
   "cell_type": "markdown",
   "metadata": {},
   "source": [
    "Level 9: Handle missing data by replacing NA/NaN with a specific value in Python and R."
   ]
  },
  {
   "cell_type": "code",
   "execution_count": null,
   "metadata": {},
   "outputs": [
    {
     "name": "stdout",
     "output_type": "stream",
     "text": [
      "   Industry  id\n",
      "12      NaN  13\n"
     ]
    }
   ],
   "source": [
    "import pandas as pd\n",
    "\n",
    "df = pd.read_csv('industry.csv')\n",
    "\n",
    "filter = df.query('Industry.isna()')\n",
    "\n",
    "print(df)\n",
    "\n",
    "print(filter)"
   ]
  },
  {
   "cell_type": "markdown",
   "metadata": {},
   "source": [
    "Level 10: Save a filtered or modified dataset back to a new CSV file in both Python and R."
   ]
  },
  {
   "cell_type": "code",
   "execution_count": null,
   "metadata": {},
   "outputs": [],
   "source": []
  },
  {
   "cell_type": "markdown",
   "metadata": {},
   "source": [
    "Level 11: Create a basic line plot using Python (matplotlib) and R (plot)."
   ]
  },
  {
   "cell_type": "code",
   "execution_count": null,
   "metadata": {},
   "outputs": [],
   "source": []
  },
  {
   "cell_type": "markdown",
   "metadata": {},
   "source": [
    "Level 12: Generate a bar plot for categorical data using Python (seaborn) and R (ggplot2)."
   ]
  },
  {
   "cell_type": "code",
   "execution_count": null,
   "metadata": {},
   "outputs": [],
   "source": []
  },
  {
   "cell_type": "markdown",
   "metadata": {},
   "source": [
    "Level 13: Create a histogram to visualize the distribution of numerical data."
   ]
  },
  {
   "cell_type": "code",
   "execution_count": null,
   "metadata": {},
   "outputs": [],
   "source": []
  },
  {
   "cell_type": "markdown",
   "metadata": {},
   "source": [
    "Level 14: Generate a scatter plot with labels and a trendline in Python and R"
   ]
  },
  {
   "cell_type": "code",
   "execution_count": null,
   "metadata": {},
   "outputs": [],
   "source": []
  },
  {
   "cell_type": "markdown",
   "metadata": {},
   "source": [
    "Level 15: Combine multiple plots into one figure using Python (matplotlib.subplot) and R (ggarrange)."
   ]
  },
  {
   "cell_type": "code",
   "execution_count": null,
   "metadata": {},
   "outputs": [],
   "source": []
  },
  {
   "cell_type": "markdown",
   "metadata": {},
   "source": [
    "Level 16: Calculate summary statistics (mean, median, standard deviation) for a numerical column."
   ]
  },
  {
   "cell_type": "code",
   "execution_count": null,
   "metadata": {},
   "outputs": [],
   "source": []
  },
  {
   "cell_type": "markdown",
   "metadata": {},
   "source": [
    "Level 17: Perform a correlation analysis between two numerical columns and visualize it with a heatmap."
   ]
  },
  {
   "cell_type": "code",
   "execution_count": null,
   "metadata": {},
   "outputs": [],
   "source": []
  },
  {
   "cell_type": "markdown",
   "metadata": {},
   "source": [
    "Level 18: Perform a t-test for comparing means between two groups in Python (scipy) and R (t.test)."
   ]
  },
  {
   "cell_type": "code",
   "execution_count": null,
   "metadata": {},
   "outputs": [],
   "source": []
  },
  {
   "cell_type": "markdown",
   "metadata": {},
   "source": [
    "Level 19: Conduct a chi-square test for categorical variables."
   ]
  },
  {
   "cell_type": "code",
   "execution_count": null,
   "metadata": {},
   "outputs": [],
   "source": []
  },
  {
   "cell_type": "markdown",
   "metadata": {},
   "source": [
    "Level 20: Perform a linear regression analysis and interpret the coefficients."
   ]
  },
  {
   "cell_type": "code",
   "execution_count": null,
   "metadata": {},
   "outputs": [],
   "source": []
  },
  {
   "cell_type": "markdown",
   "metadata": {},
   "source": [
    "Level 21: Merge two datasets using a common key in Python (pandas.merge) and R (merge)."
   ]
  },
  {
   "cell_type": "code",
   "execution_count": null,
   "metadata": {},
   "outputs": [],
   "source": []
  },
  {
   "cell_type": "markdown",
   "metadata": {},
   "source": [
    "Level 22: Group data by a categorical variable and calculate aggregated statistics (e.g., mean, count)."
   ]
  },
  {
   "cell_type": "code",
   "execution_count": null,
   "metadata": {},
   "outputs": [],
   "source": []
  },
  {
   "cell_type": "markdown",
   "metadata": {},
   "source": [
    "Level 23: Reshape data between wide and long formats using Python (pandas.melt) and R (tidyr::pivot_longer)."
   ]
  },
  {
   "cell_type": "code",
   "execution_count": null,
   "metadata": {},
   "outputs": [],
   "source": []
  },
  {
   "cell_type": "markdown",
   "metadata": {},
   "source": [
    "Level 24: Handle time-series data (e.g., parse dates, calculate rolling averages)."
   ]
  },
  {
   "cell_type": "code",
   "execution_count": null,
   "metadata": {},
   "outputs": [],
   "source": []
  },
  {
   "cell_type": "markdown",
   "metadata": {},
   "source": [
    "Level 25: Create new variables based on existing columns (e.g., calculate a profit margin column)."
   ]
  },
  {
   "cell_type": "code",
   "execution_count": null,
   "metadata": {},
   "outputs": [],
   "source": []
  },
  {
   "cell_type": "markdown",
   "metadata": {},
   "source": [
    "Level 26: Build a simple classification model using Python (scikit-learn) and R (caret)."
   ]
  },
  {
   "cell_type": "code",
   "execution_count": null,
   "metadata": {},
   "outputs": [],
   "source": []
  },
  {
   "cell_type": "markdown",
   "metadata": {},
   "source": [
    "Level 27: Perform cross-validation to evaluate your model."
   ]
  },
  {
   "cell_type": "code",
   "execution_count": null,
   "metadata": {},
   "outputs": [],
   "source": []
  },
  {
   "cell_type": "markdown",
   "metadata": {},
   "source": [
    "Level 28: Create an interactive dashboard using Python (Plotly Dash) and R (Shiny)."
   ]
  },
  {
   "cell_type": "code",
   "execution_count": null,
   "metadata": {},
   "outputs": [],
   "source": []
  },
  {
   "cell_type": "markdown",
   "metadata": {},
   "source": [
    "Level 29: Automate a data analysis pipeline that reads raw data, cleans it, performs analysis, and saves results."
   ]
  },
  {
   "cell_type": "code",
   "execution_count": null,
   "metadata": {},
   "outputs": [],
   "source": []
  },
  {
   "cell_type": "markdown",
   "metadata": {},
   "source": [
    "Level 30: Apply your skills to a real-world dataset (e.g., Kaggle) and produce a complete report, including data cleaning, analysis, visualization, and insights."
   ]
  },
  {
   "cell_type": "code",
   "execution_count": null,
   "metadata": {},
   "outputs": [],
   "source": []
  }
 ],
 "metadata": {
  "kernelspec": {
   "display_name": "Python 3",
   "language": "python",
   "name": "python3"
  },
  "language_info": {
   "codemirror_mode": {
    "name": "ipython",
    "version": 3
   },
   "file_extension": ".py",
   "mimetype": "text/x-python",
   "name": "python",
   "nbconvert_exporter": "python",
   "pygments_lexer": "ipython3",
   "version": "3.13.0"
  }
 },
 "nbformat": 4,
 "nbformat_minor": 2
}
